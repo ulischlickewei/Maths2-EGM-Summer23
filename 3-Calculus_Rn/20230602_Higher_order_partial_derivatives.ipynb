{
  "nbformat": 4,
  "nbformat_minor": 0,
  "metadata": {
    "colab": {
      "provenance": [],
      "authorship_tag": "ABX9TyOdIE/eaKV+stUrCpkTrgNr",
      "include_colab_link": true
    },
    "kernelspec": {
      "name": "python3",
      "display_name": "Python 3"
    },
    "language_info": {
      "name": "python"
    }
  },
  "cells": [
    {
      "cell_type": "markdown",
      "metadata": {
        "id": "view-in-github",
        "colab_type": "text"
      },
      "source": [
        "<a href=\"https://colab.research.google.com/github/ulischlickewei/Maths2-EGM-Summer23/blob/main/3-Calculus_Rn/20230602_Higher_order_partial_derivatives.ipynb\" target=\"_parent\"><img src=\"https://colab.research.google.com/assets/colab-badge.svg\" alt=\"Open In Colab\"/></a>"
      ]
    },
    {
      "cell_type": "code",
      "execution_count": null,
      "metadata": {
        "id": "xZnD26xIQe7W"
      },
      "outputs": [],
      "source": [
        "import sympy as sy\n",
        "h,t = sy.symbols('h,t')"
      ]
    },
    {
      "cell_type": "code",
      "source": [
        "g = 2*h/t**2\n",
        "g"
      ],
      "metadata": {
        "colab": {
          "base_uri": "https://localhost:8080/",
          "height": 52
        },
        "id": "603aRwihm2YA",
        "outputId": "b68f665b-4b10-445f-eb15-26bcd6a700b9"
      },
      "execution_count": null,
      "outputs": [
        {
          "output_type": "execute_result",
          "data": {
            "text/plain": [
              "2*h/t**2"
            ],
            "text/latex": "$\\displaystyle \\frac{2 h}{t^{2}}$"
          },
          "metadata": {},
          "execution_count": 2
        }
      ]
    },
    {
      "cell_type": "code",
      "source": [
        "# Compute estimated value of g\n",
        "h_meas = 0.8\n",
        "t_meas = 0.4046\n",
        "g_est = g.subs(h,h_meas).subs(t,t_meas)\n",
        "g_est"
      ],
      "metadata": {
        "colab": {
          "base_uri": "https://localhost:8080/",
          "height": 37
        },
        "id": "GoYFdsrum9tV",
        "outputId": "da14fe00-083c-4f13-c187-fc7b310494dd"
      },
      "execution_count": null,
      "outputs": [
        {
          "output_type": "execute_result",
          "data": {
            "text/plain": [
              "9.77390752759479"
            ],
            "text/latex": "$\\displaystyle 9.77390752759479$"
          },
          "metadata": {},
          "execution_count": 7
        }
      ]
    },
    {
      "cell_type": "code",
      "source": [
        "# Estimate the uncertainty of our prediction\n",
        "delta_h = 0.004\n",
        "delta_t = 0.0001\n",
        "delta_g = (abs(sy.diff(g,h)*delta_h) \n",
        "  + abs(sy.diff(g,t)*delta_t))\n",
        "\n",
        "delta_g"
      ],
      "metadata": {
        "colab": {
          "base_uri": "https://localhost:8080/",
          "height": 58
        },
        "id": "ZKZOR-82noml",
        "outputId": "d475ec7d-e3ad-4f83-a7f7-4303b4cf61a8"
      },
      "execution_count": null,
      "outputs": [
        {
          "output_type": "execute_result",
          "data": {
            "text/plain": [
              "0.0004*Abs(h/t**3) + 0.008/Abs(t**2)"
            ],
            "text/latex": "$\\displaystyle 0.0004 \\left|{\\frac{h}{t^{3}}}\\right| + \\frac{0.008}{\\left|{t^{2}}\\right|}$"
          },
          "metadata": {},
          "execution_count": 13
        }
      ]
    },
    {
      "cell_type": "code",
      "source": [
        "\n",
        "delta_g_est = delta_g.subs(h,h_meas).subs(t,t_meas)\n",
        "delta_g_est"
      ],
      "metadata": {
        "colab": {
          "base_uri": "https://localhost:8080/",
          "height": 37
        },
        "id": "lccHg8HEoWFc",
        "outputId": "fcba456b-fb1d-4b45-a715-5e3e77a5f0e5"
      },
      "execution_count": null,
      "outputs": [
        {
          "output_type": "execute_result",
          "data": {
            "text/plain": [
              "0.0537009303851785"
            ],
            "text/latex": "$\\displaystyle 0.0537009303851785$"
          },
          "metadata": {},
          "execution_count": 10
        }
      ]
    },
    {
      "cell_type": "code",
      "source": [
        "g_est + delta_g_est"
      ],
      "metadata": {
        "colab": {
          "base_uri": "https://localhost:8080/",
          "height": 37
        },
        "id": "YS_3iIjUo2Ud",
        "outputId": "783acb04-0ff2-4b59-8b16-ce91aa407f6a"
      },
      "execution_count": null,
      "outputs": [
        {
          "output_type": "execute_result",
          "data": {
            "text/plain": [
              "9.82760845797997"
            ],
            "text/latex": "$\\displaystyle 9.82760845797997$"
          },
          "metadata": {},
          "execution_count": 11
        }
      ]
    },
    {
      "cell_type": "code",
      "source": [
        "g_est - delta_g_est"
      ],
      "metadata": {
        "colab": {
          "base_uri": "https://localhost:8080/",
          "height": 37
        },
        "id": "mn5bu9UCo_sq",
        "outputId": "33980fee-1335-4a6d-f21f-24bc5ca4e074"
      },
      "execution_count": null,
      "outputs": [
        {
          "output_type": "execute_result",
          "data": {
            "text/plain": [
              "9.72020659720962"
            ],
            "text/latex": "$\\displaystyle 9.72020659720962$"
          },
          "metadata": {},
          "execution_count": 12
        }
      ]
    },
    {
      "cell_type": "markdown",
      "source": [
        "## Example Taylor polynomial in several variables"
      ],
      "metadata": {
        "id": "NVymsfXgt-3V"
      }
    },
    {
      "cell_type": "code",
      "source": [
        "x,y = sy.symbols('x,y')\n",
        "f = sy.exp(x+y**2)\n",
        "f"
      ],
      "metadata": {
        "colab": {
          "base_uri": "https://localhost:8080/",
          "height": 41
        },
        "id": "DOMWwOrcpDZc",
        "outputId": "1a89c9e9-b7ee-48df-b48b-ce3c82ab5ab8"
      },
      "execution_count": null,
      "outputs": [
        {
          "output_type": "execute_result",
          "data": {
            "text/plain": [
              "exp(x + y**2)"
            ],
            "text/latex": "$\\displaystyle e^{x + y^{2}}$"
          },
          "metadata": {},
          "execution_count": 14
        }
      ]
    },
    {
      "cell_type": "code",
      "source": [
        "f.subs(x,0).subs(y,0)"
      ],
      "metadata": {
        "colab": {
          "base_uri": "https://localhost:8080/",
          "height": 37
        },
        "id": "cD-aP1n7uLMa",
        "outputId": "eab73e24-6049-4ebc-c451-fcda57c545cb"
      },
      "execution_count": null,
      "outputs": [
        {
          "output_type": "execute_result",
          "data": {
            "text/plain": [
              "1"
            ],
            "text/latex": "$\\displaystyle 1$"
          },
          "metadata": {},
          "execution_count": 15
        }
      ]
    },
    {
      "cell_type": "code",
      "source": [
        "[sy.diff(f,v) for v in [x,y]]"
      ],
      "metadata": {
        "colab": {
          "base_uri": "https://localhost:8080/"
        },
        "id": "JMq0L1WMuPdG",
        "outputId": "053ddaa2-46aa-4851-bcac-a7eeec2f0057"
      },
      "execution_count": null,
      "outputs": [
        {
          "output_type": "execute_result",
          "data": {
            "text/plain": [
              "[exp(x + y**2), 2*y*exp(x + y**2)]"
            ]
          },
          "metadata": {},
          "execution_count": 16
        }
      ]
    },
    {
      "cell_type": "code",
      "source": [
        "# Equivalently:\n",
        "grad = []\n",
        "for i in range(2):\n",
        "  grad.append(sy.diff(f,[x,y][i]))\n",
        "grad"
      ],
      "metadata": {
        "colab": {
          "base_uri": "https://localhost:8080/"
        },
        "id": "7aOJk4WquXX8",
        "outputId": "dff23b47-c679-42a5-9d49-4693bd980911"
      },
      "execution_count": null,
      "outputs": [
        {
          "output_type": "execute_result",
          "data": {
            "text/plain": [
              "[exp(x + y**2), 2*y*exp(x + y**2)]"
            ]
          },
          "metadata": {},
          "execution_count": 18
        }
      ]
    },
    {
      "cell_type": "code",
      "source": [
        "sy.hessian(f,(x,y))"
      ],
      "metadata": {
        "colab": {
          "base_uri": "https://localhost:8080/",
          "height": 68
        },
        "id": "ty89L0Nau6Dv",
        "outputId": "93064b48-a4d3-4034-c9ab-f7c4213908b4"
      },
      "execution_count": null,
      "outputs": [
        {
          "output_type": "execute_result",
          "data": {
            "text/plain": [
              "Matrix([\n",
              "[    exp(x + y**2),                      2*y*exp(x + y**2)],\n",
              "[2*y*exp(x + y**2), 4*y**2*exp(x + y**2) + 2*exp(x + y**2)]])"
            ],
            "text/latex": "$\\displaystyle \\left[\\begin{matrix}e^{x + y^{2}} & 2 y e^{x + y^{2}}\\\\2 y e^{x + y^{2}} & 4 y^{2} e^{x + y^{2}} + 2 e^{x + y^{2}}\\end{matrix}\\right]$"
          },
          "metadata": {},
          "execution_count": 19
        }
      ]
    },
    {
      "cell_type": "code",
      "source": [
        "sy.hessian(f,(x,y)).subs(x,0).subs(y,0)"
      ],
      "metadata": {
        "colab": {
          "base_uri": "https://localhost:8080/",
          "height": 58
        },
        "id": "j5MP1YF0vHZA",
        "outputId": "dea87a78-7978-4f8f-eef2-611899e7113e"
      },
      "execution_count": null,
      "outputs": [
        {
          "output_type": "execute_result",
          "data": {
            "text/plain": [
              "Matrix([\n",
              "[1, 0],\n",
              "[0, 2]])"
            ],
            "text/latex": "$\\displaystyle \\left[\\begin{matrix}1 & 0\\\\0 & 2\\end{matrix}\\right]$"
          },
          "metadata": {},
          "execution_count": 20
        }
      ]
    },
    {
      "cell_type": "code",
      "source": [],
      "metadata": {
        "id": "cx62YjfWvx_1"
      },
      "execution_count": null,
      "outputs": []
    }
  ]
}