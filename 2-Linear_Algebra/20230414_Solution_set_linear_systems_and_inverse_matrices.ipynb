{
  "nbformat": 4,
  "nbformat_minor": 0,
  "metadata": {
    "colab": {
      "provenance": [],
      "authorship_tag": "ABX9TyMKJ0p/sOvM+2wyZuAN1nBt",
      "include_colab_link": true
    },
    "kernelspec": {
      "name": "python3",
      "display_name": "Python 3"
    },
    "language_info": {
      "name": "python"
    }
  },
  "cells": [
    {
      "cell_type": "markdown",
      "metadata": {
        "id": "view-in-github",
        "colab_type": "text"
      },
      "source": [
        "<a href=\"https://colab.research.google.com/github/ulischlickewei/Maths2-EGM-Summer23/blob/main/2-Linear_Algebra/20230414_Solution_set_linear_systems_and_inverse_matrices.ipynb\" target=\"_parent\"><img src=\"https://colab.research.google.com/assets/colab-badge.svg\" alt=\"Open In Colab\"/></a>"
      ]
    },
    {
      "cell_type": "markdown",
      "source": [
        "## Example on page 47"
      ],
      "metadata": {
        "id": "JevS_T-cR4gj"
      }
    },
    {
      "cell_type": "code",
      "source": [
        "import sympy as sy"
      ],
      "metadata": {
        "id": "5wtOCQZnR6sX"
      },
      "execution_count": null,
      "outputs": []
    },
    {
      "cell_type": "code",
      "source": [
        "A = sy.Matrix([[0,0,1,1],[1,1,1,2],[1,-1,1,4]])\n",
        "A"
      ],
      "metadata": {
        "colab": {
          "base_uri": "https://localhost:8080/",
          "height": 79
        },
        "id": "YFWrwGjFR7FN",
        "outputId": "ab4b5d19-6267-4092-84dd-2cce99519ba4"
      },
      "execution_count": null,
      "outputs": [
        {
          "output_type": "execute_result",
          "data": {
            "text/plain": [
              "Matrix([\n",
              "[0,  0, 1, 1],\n",
              "[1,  1, 1, 2],\n",
              "[1, -1, 1, 4]])"
            ],
            "text/latex": "$\\displaystyle \\left[\\begin{matrix}0 & 0 & 1 & 1\\\\1 & 1 & 1 & 2\\\\1 & -1 & 1 & 4\\end{matrix}\\right]$"
          },
          "metadata": {},
          "execution_count": 3
        }
      ]
    },
    {
      "cell_type": "code",
      "source": [
        "A.rref()[0]"
      ],
      "metadata": {
        "colab": {
          "base_uri": "https://localhost:8080/",
          "height": 79
        },
        "id": "D9qjCvMuSMwH",
        "outputId": "55da9778-4576-40e3-8afe-98e37f34103d"
      },
      "execution_count": null,
      "outputs": [
        {
          "output_type": "execute_result",
          "data": {
            "text/plain": [
              "Matrix([\n",
              "[1, 0, 0,  2],\n",
              "[0, 1, 0, -1],\n",
              "[0, 0, 1,  1]])"
            ],
            "text/latex": "$\\displaystyle \\left[\\begin{matrix}1 & 0 & 0 & 2\\\\0 & 1 & 0 & -1\\\\0 & 0 & 1 & 1\\end{matrix}\\right]$"
          },
          "metadata": {},
          "execution_count": 5
        }
      ]
    },
    {
      "cell_type": "markdown",
      "source": [
        "## Example page 50"
      ],
      "metadata": {
        "id": "SP5wj9CEXXP1"
      }
    },
    {
      "cell_type": "code",
      "source": [
        "import sympy as sy\n",
        "A = sy.Matrix([[2, 1, 0, 0],[3, 1, 1, 0],[5, 0, 5, 0]])\n",
        "A"
      ],
      "metadata": {
        "colab": {
          "base_uri": "https://localhost:8080/",
          "height": 79
        },
        "id": "xs_zgLq9SSRi",
        "outputId": "883db656-2cf6-4954-bfe9-37545aca656e"
      },
      "execution_count": null,
      "outputs": [
        {
          "output_type": "execute_result",
          "data": {
            "text/plain": [
              "Matrix([\n",
              "[2, 1, 0, 0],\n",
              "[3, 1, 1, 0],\n",
              "[5, 0, 5, 0]])"
            ],
            "text/latex": "$\\displaystyle \\left[\\begin{matrix}2 & 1 & 0 & 0\\\\3 & 1 & 1 & 0\\\\5 & 0 & 5 & 0\\end{matrix}\\right]$"
          },
          "metadata": {},
          "execution_count": 2
        }
      ]
    },
    {
      "cell_type": "code",
      "source": [
        "A.rref()[0]"
      ],
      "metadata": {
        "colab": {
          "base_uri": "https://localhost:8080/",
          "height": 79
        },
        "id": "W4Lsa4AaXr-Q",
        "outputId": "05a40e9b-09e2-4ef8-adfc-905bdaaad66e"
      },
      "execution_count": null,
      "outputs": [
        {
          "output_type": "execute_result",
          "data": {
            "text/plain": [
              "Matrix([\n",
              "[1, 0,  1, 0],\n",
              "[0, 1, -2, 0],\n",
              "[0, 0,  0, 0]])"
            ],
            "text/latex": "$\\displaystyle \\left[\\begin{matrix}1 & 0 & 1 & 0\\\\0 & 1 & -2 & 0\\\\0 & 0 & 0 & 0\\end{matrix}\\right]$"
          },
          "metadata": {},
          "execution_count": 3
        }
      ]
    },
    {
      "cell_type": "markdown",
      "source": [
        "## Example of inverse matrix"
      ],
      "metadata": {
        "id": "vfrY5jSganNK"
      }
    },
    {
      "cell_type": "code",
      "source": [
        "import sympy as sy\n",
        "A = sy.Matrix([[1,2,3],[0,1,4],[5,6,0]])\n",
        "A"
      ],
      "metadata": {
        "colab": {
          "base_uri": "https://localhost:8080/",
          "height": 79
        },
        "id": "tBirE-cWao2s",
        "outputId": "63620a1a-50c5-46a4-f773-262677bda076"
      },
      "execution_count": null,
      "outputs": [
        {
          "output_type": "execute_result",
          "data": {
            "text/plain": [
              "Matrix([\n",
              "[1, 2, 3],\n",
              "[0, 1, 4],\n",
              "[5, 6, 0]])"
            ],
            "text/latex": "$\\displaystyle \\left[\\begin{matrix}1 & 2 & 3\\\\0 & 1 & 4\\\\5 & 6 & 0\\end{matrix}\\right]$"
          },
          "metadata": {},
          "execution_count": 3
        }
      ]
    },
    {
      "cell_type": "code",
      "source": [
        "B = A.inv()\n",
        "B"
      ],
      "metadata": {
        "colab": {
          "base_uri": "https://localhost:8080/",
          "height": 79
        },
        "id": "ouOjplBEatea",
        "outputId": "0ba46efd-c5aa-4b66-8b83-2ea7caec91e1"
      },
      "execution_count": null,
      "outputs": [
        {
          "output_type": "execute_result",
          "data": {
            "text/plain": [
              "Matrix([\n",
              "[-24,  18,  5],\n",
              "[ 20, -15, -4],\n",
              "[ -5,   4,  1]])"
            ],
            "text/latex": "$\\displaystyle \\left[\\begin{matrix}-24 & 18 & 5\\\\20 & -15 & -4\\\\-5 & 4 & 1\\end{matrix}\\right]$"
          },
          "metadata": {},
          "execution_count": 5
        }
      ]
    },
    {
      "cell_type": "code",
      "source": [
        "A*B"
      ],
      "metadata": {
        "id": "SWnQ1Esra6gP",
        "outputId": "826bfa9b-c2f7-44ba-8786-9d5d3590da9b",
        "colab": {
          "base_uri": "https://localhost:8080/",
          "height": 79
        }
      },
      "execution_count": null,
      "outputs": [
        {
          "output_type": "execute_result",
          "data": {
            "text/plain": [
              "Matrix([\n",
              "[1, 0, 0],\n",
              "[0, 1, 0],\n",
              "[0, 0, 1]])"
            ],
            "text/latex": "$\\displaystyle \\left[\\begin{matrix}1 & 0 & 0\\\\0 & 1 & 0\\\\0 & 0 & 1\\end{matrix}\\right]$"
          },
          "metadata": {},
          "execution_count": 6
        }
      ]
    },
    {
      "cell_type": "code",
      "source": [
        "B*A"
      ],
      "metadata": {
        "id": "JXdGPfIXa_UV",
        "outputId": "90b2fa84-2a50-4a51-ee75-b2ce128016c7",
        "colab": {
          "base_uri": "https://localhost:8080/"
        }
      },
      "execution_count": null,
      "outputs": [
        {
          "output_type": "execute_result",
          "data": {
            "text/plain": [
              "Matrix([\n",
              "[1, 0, 0],\n",
              "[0, 1, 0],\n",
              "[0, 0, 1]])"
            ],
            "text/latex": "$\\displaystyle \\left[\\begin{matrix}1 & 0 & 0\\\\0 & 1 & 0\\\\0 & 0 & 1\\end{matrix}\\right]$"
          },
          "metadata": {},
          "execution_count": 7
        }
      ]
    },
    {
      "cell_type": "code",
      "source": [],
      "metadata": {
        "id": "sokkE1bNbAlB"
      },
      "execution_count": null,
      "outputs": []
    }
  ]
}