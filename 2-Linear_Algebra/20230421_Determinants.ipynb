{
  "nbformat": 4,
  "nbformat_minor": 0,
  "metadata": {
    "colab": {
      "provenance": [],
      "authorship_tag": "ABX9TyO9Y4noBvlHOF5t9PZJaEuw",
      "include_colab_link": true
    },
    "kernelspec": {
      "name": "python3",
      "display_name": "Python 3"
    },
    "language_info": {
      "name": "python"
    }
  },
  "cells": [
    {
      "cell_type": "markdown",
      "metadata": {
        "id": "view-in-github",
        "colab_type": "text"
      },
      "source": [
        "<a href=\"https://colab.research.google.com/github/ulischlickewei/Maths2-EGM-Summer23/blob/main/2-Linear_Algebra/20230421_Determinants.ipynb\" target=\"_parent\"><img src=\"https://colab.research.google.com/assets/colab-badge.svg\" alt=\"Open In Colab\"/></a>"
      ]
    },
    {
      "cell_type": "markdown",
      "source": [
        "## Computing determinants in SymPy"
      ],
      "metadata": {
        "id": "aUtja_6rBdhK"
      }
    },
    {
      "cell_type": "code",
      "execution_count": null,
      "metadata": {
        "colab": {
          "base_uri": "https://localhost:8080/",
          "height": 79
        },
        "id": "uSBHFeF2BTKk",
        "outputId": "27ec4371-46c1-4a89-fa97-cd727cde0d30"
      },
      "outputs": [
        {
          "output_type": "execute_result",
          "data": {
            "text/plain": [
              "Matrix([\n",
              "[ 1,  0, 7],\n",
              "[ 2, -3, 5],\n",
              "[-1, -1, 2]])"
            ],
            "text/latex": "$\\displaystyle \\left[\\begin{matrix}1 & 0 & 7\\\\2 & -3 & 5\\\\-1 & -1 & 2\\end{matrix}\\right]$"
          },
          "metadata": {},
          "execution_count": 2
        }
      ],
      "source": [
        "import sympy as sy\n",
        "M = sy.Matrix([[1,0,7],[2,-3,5],[-1,-1,2]])\n",
        "M"
      ]
    },
    {
      "cell_type": "code",
      "source": [
        "M.det()"
      ],
      "metadata": {
        "colab": {
          "base_uri": "https://localhost:8080/",
          "height": 37
        },
        "id": "byFGaf6MBrp-",
        "outputId": "4e4121bf-ec4d-45f9-ecae-475b22ebeb70"
      },
      "execution_count": null,
      "outputs": [
        {
          "output_type": "execute_result",
          "data": {
            "text/plain": [
              "-36"
            ],
            "text/latex": "$\\displaystyle -36$"
          },
          "metadata": {},
          "execution_count": 3
        }
      ]
    },
    {
      "cell_type": "markdown",
      "source": [
        "## Properties of the determinant"
      ],
      "metadata": {
        "id": "aHZsRJcpDR6D"
      }
    },
    {
      "cell_type": "code",
      "source": [
        "# Define two random 4x4 matrices\n",
        "A = sy.randMatrix(4)\n",
        "A"
      ],
      "metadata": {
        "colab": {
          "base_uri": "https://localhost:8080/",
          "height": 99
        },
        "id": "miscJIoLByeG",
        "outputId": "5594251e-1c4f-4fe0-acb3-0cf627f30f2b"
      },
      "execution_count": null,
      "outputs": [
        {
          "output_type": "execute_result",
          "data": {
            "text/plain": [
              "Matrix([\n",
              "[48, 83, 96, 39],\n",
              "[76, 24, 56, 41],\n",
              "[34, 20,  8, 93],\n",
              "[76, 22, 54,  1]])"
            ],
            "text/latex": "$\\displaystyle \\left[\\begin{matrix}48 & 83 & 96 & 39\\\\76 & 24 & 56 & 41\\\\34 & 20 & 8 & 93\\\\76 & 22 & 54 & 1\\end{matrix}\\right]$"
          },
          "metadata": {},
          "execution_count": 4
        }
      ]
    },
    {
      "cell_type": "code",
      "source": [
        "B = sy.randMatrix(4)"
      ],
      "metadata": {
        "id": "ViF676w9DaHm"
      },
      "execution_count": null,
      "outputs": []
    },
    {
      "cell_type": "code",
      "source": [
        "(A+B).det()"
      ],
      "metadata": {
        "colab": {
          "base_uri": "https://localhost:8080/",
          "height": 37
        },
        "id": "Tfwscp2ODcDj",
        "outputId": "9fa11ec8-f5c3-4453-f865-b3005a51a079"
      },
      "execution_count": null,
      "outputs": [
        {
          "output_type": "execute_result",
          "data": {
            "text/plain": [
              "-42216285"
            ],
            "text/latex": "$\\displaystyle -42216285$"
          },
          "metadata": {},
          "execution_count": 7
        }
      ]
    },
    {
      "cell_type": "code",
      "source": [
        "A.det() + B.det()"
      ],
      "metadata": {
        "colab": {
          "base_uri": "https://localhost:8080/",
          "height": 37
        },
        "id": "GZzP0hMuDeJY",
        "outputId": "0bd40621-a85a-4b40-b1eb-165aa96c562a"
      },
      "execution_count": null,
      "outputs": [
        {
          "output_type": "execute_result",
          "data": {
            "text/plain": [
              "-1799588"
            ],
            "text/latex": "$\\displaystyle -1799588$"
          },
          "metadata": {},
          "execution_count": 8
        }
      ]
    },
    {
      "cell_type": "markdown",
      "source": [
        "**Observation**: The determinant is not additive, i.e. \n",
        "$$\\det(A) + \\det(B) \\neq \\det(A+B)$$\n",
        "in general."
      ],
      "metadata": {
        "id": "bMXUqKtWEWrt"
      }
    },
    {
      "cell_type": "code",
      "source": [
        "A.det()"
      ],
      "metadata": {
        "colab": {
          "base_uri": "https://localhost:8080/",
          "height": 37
        },
        "id": "sA1jrf1ADkfl",
        "outputId": "afef909b-7249-4bd7-b0d6-7a6dda2be177"
      },
      "execution_count": null,
      "outputs": [
        {
          "output_type": "execute_result",
          "data": {
            "text/plain": [
              "-5253724"
            ],
            "text/latex": "$\\displaystyle -5253724$"
          },
          "metadata": {},
          "execution_count": 9
        }
      ]
    },
    {
      "cell_type": "code",
      "source": [
        "A"
      ],
      "metadata": {
        "colab": {
          "base_uri": "https://localhost:8080/",
          "height": 99
        },
        "id": "K9KjsGW9EOYM",
        "outputId": "c2cc14af-c800-4990-f206-f29d343e133f"
      },
      "execution_count": null,
      "outputs": [
        {
          "output_type": "execute_result",
          "data": {
            "text/plain": [
              "Matrix([\n",
              "[48, 83, 96, 39],\n",
              "[76, 24, 56, 41],\n",
              "[34, 20,  8, 93],\n",
              "[76, 22, 54,  1]])"
            ],
            "text/latex": "$\\displaystyle \\left[\\begin{matrix}48 & 83 & 96 & 39\\\\76 & 24 & 56 & 41\\\\34 & 20 & 8 & 93\\\\76 & 22 & 54 & 1\\end{matrix}\\right]$"
          },
          "metadata": {},
          "execution_count": 11
        }
      ]
    },
    {
      "cell_type": "code",
      "source": [
        "A2 = A.copy()\n",
        "A2"
      ],
      "metadata": {
        "colab": {
          "base_uri": "https://localhost:8080/",
          "height": 99
        },
        "id": "QTikm7ydE8K2",
        "outputId": "e9c23b5e-6335-4e9b-d9fb-2009c1703085"
      },
      "execution_count": null,
      "outputs": [
        {
          "output_type": "execute_result",
          "data": {
            "text/plain": [
              "Matrix([\n",
              "[48, 83, 96, 39],\n",
              "[76, 24, 56, 41],\n",
              "[34, 20,  8, 93],\n",
              "[76, 22, 54,  1]])"
            ],
            "text/latex": "$\\displaystyle \\left[\\begin{matrix}48 & 83 & 96 & 39\\\\76 & 24 & 56 & 41\\\\34 & 20 & 8 & 93\\\\76 & 22 & 54 & 1\\end{matrix}\\right]$"
          },
          "metadata": {},
          "execution_count": 15
        }
      ]
    },
    {
      "cell_type": "code",
      "source": [
        "A2[:,0] = 2*A[:,0]\n",
        "A2"
      ],
      "metadata": {
        "colab": {
          "base_uri": "https://localhost:8080/",
          "height": 99
        },
        "id": "SNQ8zeUPE_s_",
        "outputId": "398966a9-2db7-4d44-b358-43b5ff8fc026"
      },
      "execution_count": null,
      "outputs": [
        {
          "output_type": "execute_result",
          "data": {
            "text/plain": [
              "Matrix([\n",
              "[ 96, 83, 96, 39],\n",
              "[152, 24, 56, 41],\n",
              "[ 68, 20,  8, 93],\n",
              "[152, 22, 54,  1]])"
            ],
            "text/latex": "$\\displaystyle \\left[\\begin{matrix}96 & 83 & 96 & 39\\\\152 & 24 & 56 & 41\\\\68 & 20 & 8 & 93\\\\152 & 22 & 54 & 1\\end{matrix}\\right]$"
          },
          "metadata": {},
          "execution_count": 16
        }
      ]
    },
    {
      "cell_type": "code",
      "source": [
        "A2[1,2]"
      ],
      "metadata": {
        "colab": {
          "base_uri": "https://localhost:8080/",
          "height": 37
        },
        "id": "JKRveOEXFH3P",
        "outputId": "dddfbfee-94de-4fb9-da0a-3d74d2c48dc3"
      },
      "execution_count": null,
      "outputs": [
        {
          "output_type": "execute_result",
          "data": {
            "text/plain": [
              "56"
            ],
            "text/latex": "$\\displaystyle 56$"
          },
          "metadata": {},
          "execution_count": 17
        }
      ]
    },
    {
      "cell_type": "code",
      "source": [
        "A"
      ],
      "metadata": {
        "colab": {
          "base_uri": "https://localhost:8080/",
          "height": 99
        },
        "id": "oHaC_nXdFk-_",
        "outputId": "ecac9b27-7c14-4174-e220-990a9badeea0"
      },
      "execution_count": null,
      "outputs": [
        {
          "output_type": "execute_result",
          "data": {
            "text/plain": [
              "Matrix([\n",
              "[48, 83, 96, 39],\n",
              "[76, 24, 56, 41],\n",
              "[34, 20,  8, 93],\n",
              "[76, 22, 54,  1]])"
            ],
            "text/latex": "$\\displaystyle \\left[\\begin{matrix}48 & 83 & 96 & 39\\\\76 & 24 & 56 & 41\\\\34 & 20 & 8 & 93\\\\76 & 22 & 54 & 1\\end{matrix}\\right]$"
          },
          "metadata": {},
          "execution_count": 19
        }
      ]
    },
    {
      "cell_type": "code",
      "source": [
        "A2"
      ],
      "metadata": {
        "colab": {
          "base_uri": "https://localhost:8080/",
          "height": 99
        },
        "id": "Kk0b495dFsve",
        "outputId": "eef0cc92-e8a3-4305-fe0c-e5893d1c8360"
      },
      "execution_count": null,
      "outputs": [
        {
          "output_type": "execute_result",
          "data": {
            "text/plain": [
              "Matrix([\n",
              "[ 96, 83, 96, 39],\n",
              "[152, 24, 56, 41],\n",
              "[ 68, 20,  8, 93],\n",
              "[152, 22, 54,  1]])"
            ],
            "text/latex": "$\\displaystyle \\left[\\begin{matrix}96 & 83 & 96 & 39\\\\152 & 24 & 56 & 41\\\\68 & 20 & 8 & 93\\\\152 & 22 & 54 & 1\\end{matrix}\\right]$"
          },
          "metadata": {},
          "execution_count": 20
        }
      ]
    },
    {
      "cell_type": "code",
      "source": [
        "2*A.det()"
      ],
      "metadata": {
        "colab": {
          "base_uri": "https://localhost:8080/",
          "height": 37
        },
        "id": "flofX82eFtSF",
        "outputId": "cd6b50c7-928d-4593-9bb0-2c9afd047b04"
      },
      "execution_count": null,
      "outputs": [
        {
          "output_type": "execute_result",
          "data": {
            "text/plain": [
              "-10507448"
            ],
            "text/latex": "$\\displaystyle -10507448$"
          },
          "metadata": {},
          "execution_count": 21
        }
      ]
    },
    {
      "cell_type": "code",
      "source": [
        "A2.det()"
      ],
      "metadata": {
        "colab": {
          "base_uri": "https://localhost:8080/",
          "height": 37
        },
        "id": "qCGjeSxQFwpj",
        "outputId": "5fa580aa-5cac-482b-f6e2-3a35513174d2"
      },
      "execution_count": null,
      "outputs": [
        {
          "output_type": "execute_result",
          "data": {
            "text/plain": [
              "-10507448"
            ],
            "text/latex": "$\\displaystyle -10507448$"
          },
          "metadata": {},
          "execution_count": 22
        }
      ]
    },
    {
      "cell_type": "code",
      "source": [
        "1/A.det()"
      ],
      "metadata": {
        "colab": {
          "base_uri": "https://localhost:8080/",
          "height": 51
        },
        "id": "xybuowqDFyzG",
        "outputId": "5e180d98-e627-4eab-c864-00cd4442aeb4"
      },
      "execution_count": null,
      "outputs": [
        {
          "output_type": "execute_result",
          "data": {
            "text/plain": [
              "-1/5253724"
            ],
            "text/latex": "$\\displaystyle - \\frac{1}{5253724}$"
          },
          "metadata": {},
          "execution_count": 23
        }
      ]
    },
    {
      "cell_type": "code",
      "source": [
        "(A.inv()).det()"
      ],
      "metadata": {
        "colab": {
          "base_uri": "https://localhost:8080/",
          "height": 51
        },
        "id": "PJyhBRjWJQ1X",
        "outputId": "7849509b-6003-4c89-aa48-0bc396f8eac1"
      },
      "execution_count": null,
      "outputs": [
        {
          "output_type": "execute_result",
          "data": {
            "text/plain": [
              "-1/5253724"
            ],
            "text/latex": "$\\displaystyle - \\frac{1}{5253724}$"
          },
          "metadata": {},
          "execution_count": 25
        }
      ]
    },
    {
      "cell_type": "code",
      "source": [],
      "metadata": {
        "id": "_htKP_gWLmR5"
      },
      "execution_count": null,
      "outputs": []
    },
    {
      "cell_type": "markdown",
      "source": [
        "## Example on page 72"
      ],
      "metadata": {
        "id": "9My3ohZQLm5R"
      }
    },
    {
      "cell_type": "code",
      "source": [
        "a = sy.symbols('a')\n",
        "A = sy.Matrix([[1,2,0],[a,1,0],[0,0,1]])\n",
        "A"
      ],
      "metadata": {
        "colab": {
          "base_uri": "https://localhost:8080/",
          "height": 79
        },
        "id": "eMvqNCHyJTJL",
        "outputId": "498ef54b-c2ef-4bd3-fc63-9cdb27d4447a"
      },
      "execution_count": null,
      "outputs": [
        {
          "output_type": "execute_result",
          "data": {
            "text/plain": [
              "Matrix([\n",
              "[1, 2, 0],\n",
              "[a, 1, 0],\n",
              "[0, 0, 1]])"
            ],
            "text/latex": "$\\displaystyle \\left[\\begin{matrix}1 & 2 & 0\\\\a & 1 & 0\\\\0 & 0 & 1\\end{matrix}\\right]$"
          },
          "metadata": {},
          "execution_count": 26
        }
      ]
    },
    {
      "cell_type": "code",
      "source": [
        "A.det()"
      ],
      "metadata": {
        "colab": {
          "base_uri": "https://localhost:8080/",
          "height": 38
        },
        "id": "DVAXNYdWLx2q",
        "outputId": "811f58ce-81d8-45f4-a827-fee9df1d69b4"
      },
      "execution_count": null,
      "outputs": [
        {
          "output_type": "execute_result",
          "data": {
            "text/plain": [
              "1 - 2*a"
            ],
            "text/latex": "$\\displaystyle 1 - 2 a$"
          },
          "metadata": {},
          "execution_count": 27
        }
      ]
    },
    {
      "cell_type": "markdown",
      "source": [
        "## Example on page 83"
      ],
      "metadata": {
        "id": "3v2pJl6XdtCN"
      }
    },
    {
      "cell_type": "code",
      "source": [
        "import sympy as sy\n",
        "A = sy.Matrix([[6, -3, 1],[3,0,5],[2,2,6]])\n",
        "A"
      ],
      "metadata": {
        "colab": {
          "base_uri": "https://localhost:8080/",
          "height": 79
        },
        "id": "-U13jehXLztZ",
        "outputId": "732138c9-15ac-4723-9725-111f3f529236"
      },
      "execution_count": null,
      "outputs": [
        {
          "output_type": "execute_result",
          "data": {
            "text/plain": [
              "Matrix([\n",
              "[6, -3, 1],\n",
              "[3,  0, 5],\n",
              "[2,  2, 6]])"
            ],
            "text/latex": "$\\displaystyle \\left[\\begin{matrix}6 & -3 & 1\\\\3 & 0 & 5\\\\2 & 2 & 6\\end{matrix}\\right]$"
          },
          "metadata": {},
          "execution_count": 1
        }
      ]
    },
    {
      "cell_type": "code",
      "source": [
        "(A - 5*sy.eye(3)).rref()[0]"
      ],
      "metadata": {
        "colab": {
          "base_uri": "https://localhost:8080/",
          "height": 79
        },
        "id": "2o7NKsPzduhX",
        "outputId": "b4d746dc-2871-4abb-e931-e6345515be92"
      },
      "execution_count": null,
      "outputs": [
        {
          "output_type": "execute_result",
          "data": {
            "text/plain": [
              "Matrix([\n",
              "[1, 0, 0],\n",
              "[0, 1, 0],\n",
              "[0, 0, 1]])"
            ],
            "text/latex": "$\\displaystyle \\left[\\begin{matrix}1 & 0 & 0\\\\0 & 1 & 0\\\\0 & 0 & 1\\end{matrix}\\right]$"
          },
          "metadata": {},
          "execution_count": 3
        }
      ]
    },
    {
      "cell_type": "code",
      "source": [
        "(A - 5*sy.eye(3)).det()"
      ],
      "metadata": {
        "colab": {
          "base_uri": "https://localhost:8080/",
          "height": 37
        },
        "id": "3x2u8x7VeHo4",
        "outputId": "1d222cc8-1113-4048-e112-26d5e0549f33"
      },
      "execution_count": null,
      "outputs": [
        {
          "output_type": "execute_result",
          "data": {
            "text/plain": [
              "-20"
            ],
            "text/latex": "$\\displaystyle -20$"
          },
          "metadata": {},
          "execution_count": 4
        }
      ]
    },
    {
      "cell_type": "code",
      "source": [],
      "metadata": {
        "id": "WNwHmgjXero1"
      },
      "execution_count": null,
      "outputs": []
    }
  ]
}