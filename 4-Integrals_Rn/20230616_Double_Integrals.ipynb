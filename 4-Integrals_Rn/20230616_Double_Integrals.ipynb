{
  "nbformat": 4,
  "nbformat_minor": 0,
  "metadata": {
    "colab": {
      "provenance": [],
      "authorship_tag": "ABX9TyOxQtNPHIj8eqpcTbjlhvQH",
      "include_colab_link": true
    },
    "kernelspec": {
      "name": "python3",
      "display_name": "Python 3"
    },
    "language_info": {
      "name": "python"
    }
  },
  "cells": [
    {
      "cell_type": "markdown",
      "metadata": {
        "id": "view-in-github",
        "colab_type": "text"
      },
      "source": [
        "<a href=\"https://colab.research.google.com/github/ulischlickewei/Maths2-EGM-Summer23/blob/main/4-Integrals_Rn/20230616_Double_Integrals.ipynb\" target=\"_parent\"><img src=\"https://colab.research.google.com/assets/colab-badge.svg\" alt=\"Open In Colab\"/></a>"
      ]
    },
    {
      "cell_type": "markdown",
      "source": [
        "## Example on page 25"
      ],
      "metadata": {
        "id": "NJKFsxpewqQQ"
      }
    },
    {
      "cell_type": "code",
      "execution_count": null,
      "metadata": {
        "id": "xfejZzqhbNYG"
      },
      "outputs": [],
      "source": [
        "import sympy as sy\n",
        "r, phi = sy.symbols('r,phi')"
      ]
    },
    {
      "cell_type": "code",
      "source": [
        "R = sy.symbols('R')\n",
        "yC = sy.S(2)/(sy.pi * R**2) * (\n",
        "    sy.integrate(\n",
        "        sy.integrate(r**2*sy.sin(phi),(r,0,R)),\n",
        "        (phi,0,sy.pi)))"
      ],
      "metadata": {
        "id": "ciPERpPmbTl7"
      },
      "execution_count": null,
      "outputs": []
    },
    {
      "cell_type": "code",
      "source": [
        "yC"
      ],
      "metadata": {
        "colab": {
          "base_uri": "https://localhost:8080/",
          "height": 52
        },
        "id": "BjXGXfk2b_wv",
        "outputId": "2494504c-1a5b-4edc-f1e0-e0187ec7fd80"
      },
      "execution_count": null,
      "outputs": [
        {
          "output_type": "execute_result",
          "data": {
            "text/plain": [
              "4*R/(3*pi)"
            ],
            "text/latex": "$\\displaystyle \\frac{4 R}{3 \\pi}$"
          },
          "metadata": {},
          "execution_count": 4
        }
      ]
    },
    {
      "cell_type": "code",
      "source": [
        "yC.evalf()"
      ],
      "metadata": {
        "colab": {
          "base_uri": "https://localhost:8080/",
          "height": 38
        },
        "id": "a8kx99KucJY9",
        "outputId": "1300c1a2-6cdb-4ac0-c86e-d50d1198734e"
      },
      "execution_count": null,
      "outputs": [
        {
          "output_type": "execute_result",
          "data": {
            "text/plain": [
              "0.424413181578388*R"
            ],
            "text/latex": "$\\displaystyle 0.424413181578388 R$"
          },
          "metadata": {},
          "execution_count": 5
        }
      ]
    },
    {
      "cell_type": "markdown",
      "source": [
        "## Example page 26"
      ],
      "metadata": {
        "id": "FtGlK7dPiXwO"
      }
    },
    {
      "cell_type": "code",
      "source": [
        "import sympy as sy\n",
        "r,phi,q,h,R = sy.symbols('r,phi,q,h,R')"
      ],
      "metadata": {
        "id": "BJ6z7QNJcLRI"
      },
      "execution_count": null,
      "outputs": []
    },
    {
      "cell_type": "code",
      "source": [
        "qD = -h*q/(2*sy.pi) * sy.integrate(\n",
        "    sy.integrate(r/((r**2+h**2)**(3/2)), (r,0,R)),\n",
        "    (phi,0,2*sy.pi))\n",
        "\n",
        "qD"
      ],
      "metadata": {
        "colab": {
          "base_uri": "https://localhost:8080/",
          "height": 89
        },
        "id": "BjKiYRYSiZTQ",
        "outputId": "bc3e1d01-f169-47ac-b738-6f651d071aa4"
      },
      "execution_count": null,
      "outputs": [
        {
          "output_type": "execute_result",
          "data": {
            "text/plain": [
              "-h*q*(-1.0/(h**1.0*(R**2/h**2 + 1)**0.5) + 1.0/h**1.0)"
            ],
            "text/latex": "$\\displaystyle - h q \\left(- \\frac{1.0}{h^{1.0} \\left(\\frac{R^{2}}{h^{2}} + 1\\right)^{0.5}} + \\frac{1.0}{h^{1.0}}\\right)$"
          },
          "metadata": {},
          "execution_count": 10
        }
      ]
    },
    {
      "cell_type": "code",
      "source": [
        "-h*q/(2*sy.pi)*sy.integrate(r/((r**2+h**2)**(3/2)), (r,0,R))"
      ],
      "metadata": {
        "colab": {
          "base_uri": "https://localhost:8080/",
          "height": 86
        },
        "id": "CqaPl_iPi9q1",
        "outputId": "d6755258-c89a-4048-91a8-2fc5c0ef7a79"
      },
      "execution_count": null,
      "outputs": [
        {
          "output_type": "execute_result",
          "data": {
            "text/plain": [
              "-h*q*(-1.0/(h**1.0*(R**2/h**2 + 1)**0.5) + 1.0/h**1.0)/(2*pi)"
            ],
            "text/latex": "$\\displaystyle - \\frac{h q \\left(- \\frac{1.0}{h^{1.0} \\left(\\frac{R^{2}}{h^{2}} + 1\\right)^{0.5}} + \\frac{1.0}{h^{1.0}}\\right)}{2 \\pi}$"
          },
          "metadata": {},
          "execution_count": 12
        }
      ]
    },
    {
      "cell_type": "code",
      "source": [],
      "metadata": {
        "id": "IkRvJJv0jzEv"
      },
      "execution_count": null,
      "outputs": []
    }
  ]
}