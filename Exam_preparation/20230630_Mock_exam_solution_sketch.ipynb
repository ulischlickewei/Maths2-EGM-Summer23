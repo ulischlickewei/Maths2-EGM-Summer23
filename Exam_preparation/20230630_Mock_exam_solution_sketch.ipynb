{
  "metadata": {
    "language_info": {
      "name": "python",
      "version": "3.10.11",
      "mimetype": "text/x-python",
      "codemirror_mode": {
        "name": "ipython",
        "version": 3
      },
      "pygments_lexer": "ipython3",
      "nbconvert_exporter": "python",
      "file_extension": ".py"
    },
    "kernelspec": {
      "name": "python3",
      "display_name": "Python 3 (ipykernel)",
      "language": "python"
    },
    "colab": {
      "provenance": [],
      "include_colab_link": true
    }
  },
  "nbformat_minor": 5,
  "nbformat": 4,
  "cells": [
    {
      "cell_type": "markdown",
      "metadata": {
        "id": "view-in-github",
        "colab_type": "text"
      },
      "source": [
        "<a href=\"https://colab.research.google.com/github/ulischlickewei/Maths2-EGM-Summer23/blob/main/Exam_preparation/20230630_Mock_exam_solution_sketch.ipynb\" target=\"_parent\"><img src=\"https://colab.research.google.com/assets/colab-badge.svg\" alt=\"Open In Colab\"/></a>"
      ]
    },
    {
      "cell_type": "markdown",
      "source": [
        "## Exercise 1"
      ],
      "metadata": {
        "id": "zUCEL4CO0Jfi"
      },
      "id": "zUCEL4CO0Jfi"
    },
    {
      "cell_type": "code",
      "source": [
        "import sympy as sy\n",
        "x = sy.symbols('x')\n",
        "f = 16*(1+x)**(sy.S(1)/4)\n",
        "f"
      ],
      "metadata": {
        "colab": {
          "base_uri": "https://localhost:8080/",
          "height": 38
        },
        "id": "aDExbqI80Ihs",
        "outputId": "e819dcb3-cc59-4744-f8ae-5cecb226554c"
      },
      "id": "aDExbqI80Ihs",
      "execution_count": null,
      "outputs": [
        {
          "output_type": "execute_result",
          "data": {
            "text/plain": [
              "16*(x + 1)**(1/4)"
            ],
            "text/latex": "$\\displaystyle 16 \\sqrt[4]{x + 1}$"
          },
          "metadata": {},
          "execution_count": 2
        }
      ]
    },
    {
      "cell_type": "code",
      "source": [
        "sy.series(f,x,0,4)"
      ],
      "metadata": {
        "colab": {
          "base_uri": "https://localhost:8080/",
          "height": 54
        },
        "id": "asd3LNRN0gDJ",
        "outputId": "c98307da-d13e-4c28-b586-1ac50be539a5"
      },
      "id": "asd3LNRN0gDJ",
      "execution_count": null,
      "outputs": [
        {
          "output_type": "execute_result",
          "data": {
            "text/plain": [
              "16 + 4*x - 3*x**2/2 + 7*x**3/8 + O(x**4)"
            ],
            "text/latex": "$\\displaystyle 16 + 4 x - \\frac{3 x^{2}}{2} + \\frac{7 x^{3}}{8} + O\\left(x^{4}\\right)$"
          },
          "metadata": {},
          "execution_count": 5
        }
      ]
    },
    {
      "cell_type": "code",
      "source": [
        "round(sy.series(f,x,0,4).removeO().subs(x,-1/16),2)"
      ],
      "metadata": {
        "colab": {
          "base_uri": "https://localhost:8080/",
          "height": 37
        },
        "id": "CTN5WSzA1DP6",
        "outputId": "63a8afd5-c0eb-4e49-d8c2-07746317568f"
      },
      "id": "CTN5WSzA1DP6",
      "execution_count": null,
      "outputs": [
        {
          "output_type": "execute_result",
          "data": {
            "text/plain": [
              "15.74"
            ],
            "text/latex": "$\\displaystyle 15.74$"
          },
          "metadata": {},
          "execution_count": 7
        }
      ]
    },
    {
      "cell_type": "markdown",
      "source": [
        "## Exercise 2"
      ],
      "metadata": {
        "id": "156d9515-5039-4d5b-af79-c890fa73f7e8"
      },
      "id": "156d9515-5039-4d5b-af79-c890fa73f7e8"
    },
    {
      "cell_type": "code",
      "source": [
        "import sympy as sy\n",
        "x = sy.symbols('x')\n",
        "f = sy.sqrt(1+x**4)\n",
        "f"
      ],
      "metadata": {
        "trusted": true,
        "tags": [],
        "id": "0781b4d8-7ac8-4999-8ccf-c39373ce1a71",
        "colab": {
          "base_uri": "https://localhost:8080/",
          "height": 40
        },
        "outputId": "1bf91787-ea25-4c3d-af9d-b607b86749eb"
      },
      "execution_count": null,
      "outputs": [
        {
          "output_type": "execute_result",
          "data": {
            "text/plain": [
              "sqrt(x**4 + 1)"
            ],
            "text/latex": "$\\displaystyle \\sqrt{x^{4} + 1}$"
          },
          "metadata": {},
          "execution_count": 23
        }
      ],
      "id": "0781b4d8-7ac8-4999-8ccf-c39373ce1a71"
    },
    {
      "cell_type": "code",
      "source": [
        "n = 21\n",
        "integral = sy.integrate(sy.series(f,x,0,n))\n",
        "integral"
      ],
      "metadata": {
        "trusted": true,
        "tags": [],
        "id": "46aa3994-5cff-4638-a6fb-22bafef4acaf",
        "outputId": "1cbe85da-d4f1-4680-e3d9-7c7298bb4511",
        "colab": {
          "base_uri": "https://localhost:8080/",
          "height": 54
        }
      },
      "execution_count": null,
      "outputs": [
        {
          "output_type": "execute_result",
          "data": {
            "text/plain": [
              "x + x**5/10 - x**9/72 + x**13/208 - 5*x**17/2176 + x**21/768 + O(x**22)"
            ],
            "text/latex": "$\\displaystyle x + \\frac{x^{5}}{10} - \\frac{x^{9}}{72} + \\frac{x^{13}}{208} - \\frac{5 x^{17}}{2176} + \\frac{x^{21}}{768} + O\\left(x^{22}\\right)$"
          },
          "metadata": {},
          "execution_count": 52
        }
      ],
      "id": "46aa3994-5cff-4638-a6fb-22bafef4acaf"
    },
    {
      "cell_type": "code",
      "source": [
        "for i in range(5):\n",
        "  print(i,' :', sy.binomial(sy.S(1)/2,i))"
      ],
      "metadata": {
        "colab": {
          "base_uri": "https://localhost:8080/"
        },
        "id": "lxq-4RAn_utd",
        "outputId": "f98c8eee-b37e-4a3e-ff8a-2180b9971b31"
      },
      "id": "lxq-4RAn_utd",
      "execution_count": null,
      "outputs": [
        {
          "output_type": "stream",
          "name": "stdout",
          "text": [
            "0  : 1\n",
            "1  : 1/2\n",
            "2  : -1/8\n",
            "3  : 1/16\n",
            "4  : -5/128\n"
          ]
        }
      ]
    },
    {
      "cell_type": "code",
      "source": [
        "for N in range(15):\n",
        "  print('{:.0f}: {:.2e}'.format(N,float(abs(sy.binomial(sy.S(1)/2, N+1) * 1/(4*N+1)))))"
      ],
      "metadata": {
        "colab": {
          "base_uri": "https://localhost:8080/"
        },
        "id": "tQc6DUxs_0E_",
        "outputId": "a4f6d3eb-fcef-4d48-8264-7345f13f6be1"
      },
      "id": "tQc6DUxs_0E_",
      "execution_count": null,
      "outputs": [
        {
          "output_type": "stream",
          "name": "stdout",
          "text": [
            "0: 5.00e-01\n",
            "1: 2.50e-02\n",
            "2: 6.94e-03\n",
            "3: 3.00e-03\n",
            "4: 1.61e-03\n",
            "5: 9.77e-04\n",
            "6: 6.45e-04\n",
            "7: 4.51e-04\n",
            "8: 3.31e-04\n",
            "9: 2.51e-04\n",
            "10: 1.95e-04\n",
            "11: 1.56e-04\n",
            "12: 1.27e-04\n",
            "13: 1.04e-04\n",
            "14: 8.74e-05\n"
          ]
        }
      ]
    },
    {
      "cell_type": "markdown",
      "source": [
        "## Exercise 3"
      ],
      "metadata": {
        "id": "218bdcc3-eb64-4954-a37b-fae77436ee59"
      },
      "id": "218bdcc3-eb64-4954-a37b-fae77436ee59"
    },
    {
      "cell_type": "code",
      "source": [
        "import sympy as sy\n",
        "x,m,g = sy.symbols('x,m,g')\n",
        "F = m*g/(1+x)**2"
      ],
      "metadata": {
        "trusted": true,
        "tags": [],
        "id": "3134e594-b4f6-4e56-9ff7-ae41f483bb68"
      },
      "execution_count": null,
      "outputs": [],
      "id": "3134e594-b4f6-4e56-9ff7-ae41f483bb68"
    },
    {
      "cell_type": "code",
      "source": [
        "F"
      ],
      "metadata": {
        "trusted": true,
        "tags": [],
        "id": "ca25e6e3-5997-4b94-8e4c-2dae522575ff",
        "outputId": "3ddd3d55-9658-41c4-9e5f-fe5697c79a31",
        "colab": {
          "base_uri": "https://localhost:8080/",
          "height": 54
        }
      },
      "execution_count": null,
      "outputs": [
        {
          "output_type": "execute_result",
          "data": {
            "text/plain": [
              "g*m/(x + 1)**2"
            ],
            "text/latex": "$\\displaystyle \\frac{g m}{\\left(x + 1\\right)^{2}}$"
          },
          "metadata": {},
          "execution_count": 73
        }
      ],
      "id": "ca25e6e3-5997-4b94-8e4c-2dae522575ff"
    },
    {
      "cell_type": "code",
      "source": [
        "sy.series(F,x,0,3)"
      ],
      "metadata": {
        "trusted": true,
        "tags": [],
        "id": "a3b5a1a4-fc69-482a-86e5-6d2e525ea307",
        "colab": {
          "base_uri": "https://localhost:8080/",
          "height": 38
        },
        "outputId": "44b61a0a-8e34-42c0-dd87-e7a18e488191"
      },
      "execution_count": null,
      "outputs": [
        {
          "output_type": "execute_result",
          "data": {
            "text/plain": [
              "g*m - 2*g*m*x + 3*g*m*x**2 + O(x**3)"
            ],
            "text/latex": "$\\displaystyle g m - 2 g m x + 3 g m x^{2} + O\\left(x^{3}\\right)$"
          },
          "metadata": {},
          "execution_count": 74
        }
      ],
      "id": "a3b5a1a4-fc69-482a-86e5-6d2e525ea307"
    },
    {
      "cell_type": "markdown",
      "source": [
        "## Exercise 4"
      ],
      "metadata": {
        "id": "cd8c8a8a-ccd8-4873-ab4b-84e9d5fbe67b"
      },
      "id": "cd8c8a8a-ccd8-4873-ab4b-84e9d5fbe67b"
    },
    {
      "cell_type": "code",
      "source": [
        "import sympy as sy\n",
        "r0,x = sy.symbols('r0,x')"
      ],
      "metadata": {
        "trusted": true,
        "tags": [],
        "id": "e7594365-2347-4b62-9345-6fe58e3df040"
      },
      "execution_count": null,
      "outputs": [],
      "id": "e7594365-2347-4b62-9345-6fe58e3df040"
    },
    {
      "cell_type": "code",
      "source": [
        "r = r0/(1+x)\n",
        "sy.series(r,x,0,2)"
      ],
      "metadata": {
        "trusted": true,
        "tags": [],
        "id": "c550b387-7afe-45dc-bcbb-c074b3666bf2",
        "outputId": "c5299494-6f78-411b-92de-7c9eac7249b3",
        "colab": {
          "base_uri": "https://localhost:8080/",
          "height": 38
        }
      },
      "execution_count": null,
      "outputs": [
        {
          "output_type": "execute_result",
          "data": {
            "text/plain": [
              "r0 - r0*x + O(x**2)"
            ],
            "text/latex": "$\\displaystyle r_{0} - r_{0} x + O\\left(x^{2}\\right)$"
          },
          "metadata": {},
          "execution_count": 79
        }
      ],
      "id": "c550b387-7afe-45dc-bcbb-c074b3666bf2"
    },
    {
      "cell_type": "code",
      "source": [
        "sy.series(r,x,0,2).removeO().subs({r0:})"
      ],
      "metadata": {
        "id": "UBgdR4sMiryX"
      },
      "id": "UBgdR4sMiryX",
      "execution_count": null,
      "outputs": []
    },
    {
      "cell_type": "markdown",
      "source": [
        "## Exercise 5"
      ],
      "metadata": {
        "id": "8e62e9d3-ded7-4f18-a7dd-9d873613f659"
      },
      "id": "8e62e9d3-ded7-4f18-a7dd-9d873613f659"
    },
    {
      "cell_type": "code",
      "source": [
        "import sympy as sy\n",
        "m,g = sy.symbols('m,g')\n",
        "k,s = sy.symbols('k,s', positive = True)"
      ],
      "metadata": {
        "trusted": true,
        "tags": [],
        "id": "9eed2224-b5de-4b81-81dc-48fdb8e3670a"
      },
      "execution_count": null,
      "outputs": [],
      "id": "9eed2224-b5de-4b81-81dc-48fdb8e3670a"
    },
    {
      "cell_type": "code",
      "source": [
        "v = sy.sqrt(m*g/k * (1-sy.exp(-2*k/m * s)))\n",
        "v"
      ],
      "metadata": {
        "trusted": true,
        "tags": [],
        "id": "8cbdfac7-f1da-4524-8950-95a6645f6c69",
        "outputId": "fef2de97-c440-490b-b68e-c6b407c44256"
      },
      "execution_count": null,
      "outputs": [
        {
          "execution_count": 2,
          "output_type": "execute_result",
          "data": {
            "text/plain": "sqrt(g*m*(1 - exp(-2*k*s/m)))/sqrt(k)",
            "text/latex": "$\\displaystyle \\frac{\\sqrt{g m \\left(1 - e^{- \\frac{2 k s}{m}}\\right)}}{\\sqrt{k}}$"
          },
          "metadata": {}
        }
      ],
      "id": "8cbdfac7-f1da-4524-8950-95a6645f6c69"
    },
    {
      "cell_type": "code",
      "source": [
        "sy.series(v, k, 0, 3)"
      ],
      "metadata": {
        "trusted": true,
        "tags": [],
        "id": "85e13a05-7649-4393-af04-18c7c6d0c75d",
        "outputId": "f9e12527-ff32-4ea6-d8be-bd80a6de84bc"
      },
      "execution_count": null,
      "outputs": [
        {
          "execution_count": 3,
          "output_type": "execute_result",
          "data": {
            "text/plain": "sqrt(2)*sqrt(g)*sqrt(s) - sqrt(2)*sqrt(g)*k*s**(3/2)/(2*m) + 5*sqrt(2)*sqrt(g)*k**2*s**(5/2)/(24*m**2) + O(k**3)",
            "text/latex": "$\\displaystyle \\sqrt{2} \\sqrt{g} \\sqrt{s} - \\frac{\\sqrt{2} \\sqrt{g} k s^{\\frac{3}{2}}}{2 m} + \\frac{5 \\sqrt{2} \\sqrt{g} k^{2} s^{\\frac{5}{2}}}{24 m^{2}} + O\\left(k^{3}\\right)$"
          },
          "metadata": {}
        }
      ],
      "id": "85e13a05-7649-4393-af04-18c7c6d0c75d"
    },
    {
      "cell_type": "markdown",
      "source": [
        "## Exercise 6"
      ],
      "metadata": {
        "id": "-WI-7p4MmKrK"
      },
      "id": "-WI-7p4MmKrK"
    },
    {
      "cell_type": "code",
      "source": [
        "import sympy as sy\n",
        "x = sy.symbols('x')\n",
        "f = sy.sqrt(x)"
      ],
      "metadata": {
        "id": "2TizWOiNmNGk"
      },
      "id": "2TizWOiNmNGk",
      "execution_count": 90,
      "outputs": []
    },
    {
      "cell_type": "code",
      "source": [
        "sy.plot(sy.diff(f,x,4),(x,0.85,1.15))"
      ],
      "metadata": {
        "colab": {
          "base_uri": "https://localhost:8080/",
          "height": 504
        },
        "id": "nbOyiiUWmry0",
        "outputId": "8ecfaed2-870e-4ba5-ff4a-2788c385e5c8"
      },
      "id": "nbOyiiUWmry0",
      "execution_count": 91,
      "outputs": [
        {
          "output_type": "display_data",
          "data": {
            "text/plain": [
              "<Figure size 640x480 with 1 Axes>"
            ],
            "image/png": "[encoded data removed]"
          },
          "metadata": {}
        },
        {
          "output_type": "execute_result",
          "data": {
            "text/plain": [
              "<sympy.plotting.plot.Plot at 0x7f576e8a3f10>"
            ]
          },
          "metadata": {},
          "execution_count": 91
        }
      ]
    },
    {
      "cell_type": "code",
      "source": [
        "sy.diff(f,x,4).subs(x,0.85)/sy.factorial(4) * (0.15)**4"
      ],
      "metadata": {
        "colab": {
          "base_uri": "https://localhost:8080/",
          "height": 37
        },
        "id": "cJTgpNUXm8el",
        "outputId": "9e608c86-8440-4467-b263-b9a1c8df14f4"
      },
      "id": "cJTgpNUXm8el",
      "execution_count": 92,
      "outputs": [
        {
          "output_type": "execute_result",
          "data": {
            "text/plain": [
              "-3.49268027015999e-5"
            ],
            "text/latex": "$\\displaystyle -3.49268027015999 \\cdot 10^{-5}$"
          },
          "metadata": {},
          "execution_count": 92
        }
      ]
    },
    {
      "cell_type": "markdown",
      "source": [
        "## Exercise 8"
      ],
      "metadata": {
        "id": "ea6f1b22-9037-40d8-89f1-9dd5610109e5"
      },
      "id": "ea6f1b22-9037-40d8-89f1-9dd5610109e5"
    },
    {
      "cell_type": "code",
      "source": [
        "import sympy as sy\n",
        "a = sy.symbols('a')\n",
        "A = sy.Matrix([[2, 3, 1, 2, 4], [1, 2, 3, -2, 1], [0, 0, 2, a, 0]])\n",
        "A"
      ],
      "metadata": {
        "trusted": true,
        "tags": [],
        "id": "18020c8f-7f73-4bb1-a75f-d33ee9b8d01e",
        "outputId": "d2306e75-f599-4476-fc74-181dcae98376"
      },
      "execution_count": null,
      "outputs": [
        {
          "execution_count": 3,
          "output_type": "execute_result",
          "data": {
            "text/plain": "Matrix([\n[2, 3, 1,  2, 4],\n[1, 2, 3, -2, 1],\n[0, 0, 2,  a, 0]])",
            "text/latex": "$\\displaystyle \\left[\\begin{matrix}2 & 3 & 1 & 2 & 4\\\\1 & 2 & 3 & -2 & 1\\\\0 & 0 & 2 & a & 0\\end{matrix}\\right]$"
          },
          "metadata": {}
        }
      ],
      "id": "18020c8f-7f73-4bb1-a75f-d33ee9b8d01e"
    },
    {
      "cell_type": "code",
      "source": [
        "A.rref()[0]"
      ],
      "metadata": {
        "trusted": true,
        "tags": [],
        "id": "56053651-d061-44f9-9f8d-5e0b449676f8",
        "outputId": "e97a0183-c329-44de-ddfb-97731662c20d"
      },
      "execution_count": null,
      "outputs": [
        {
          "execution_count": 5,
          "output_type": "execute_result",
          "data": {
            "text/plain": "Matrix([\n[1, 0, 0, 7*a/2 + 10,  5],\n[0, 1, 0, -5*a/2 - 6, -2],\n[0, 0, 1,        a/2,  0]])",
            "text/latex": "$\\displaystyle \\left[\\begin{matrix}1 & 0 & 0 & \\frac{7 a}{2} + 10 & 5\\\\0 & 1 & 0 & - \\frac{5 a}{2} - 6 & -2\\\\0 & 0 & 1 & \\frac{a}{2} & 0\\end{matrix}\\right]$"
          },
          "metadata": {}
        }
      ],
      "id": "56053651-d061-44f9-9f8d-5e0b449676f8"
    },
    {
      "cell_type": "markdown",
      "source": [
        "## Exercise 9"
      ],
      "metadata": {
        "id": "Px28l-Rxt0eC"
      },
      "id": "Px28l-Rxt0eC"
    },
    {
      "cell_type": "code",
      "source": [
        "import sympy as sy\n",
        "b1, b2, b3 = sy.symbols('b1,b2,b3')\n",
        "A = sy.Matrix([[2,1,0,b1],[1,-4,-3,b2],[0,3,2,b3]])\n",
        "A"
      ],
      "metadata": {
        "id": "d1d51397-07bb-42ca-a910-a14e8469162d",
        "colab": {
          "base_uri": "https://localhost:8080/",
          "height": 78
        },
        "outputId": "b0afc85c-df4a-446f-9752-596bb9d50d87"
      },
      "execution_count": 93,
      "outputs": [
        {
          "output_type": "execute_result",
          "data": {
            "text/plain": [
              "Matrix([\n",
              "[2,  1,  0, b1],\n",
              "[1, -4, -3, b2],\n",
              "[0,  3,  2, b3]])"
            ],
            "text/latex": "$\\displaystyle \\left[\\begin{matrix}2 & 1 & 0 & b_{1}\\\\1 & -4 & -3 & b_{2}\\\\0 & 3 & 2 & b_{3}\\end{matrix}\\right]$"
          },
          "metadata": {},
          "execution_count": 93
        }
      ],
      "id": "d1d51397-07bb-42ca-a910-a14e8469162d"
    },
    {
      "cell_type": "code",
      "source": [
        "A.echelon_form()"
      ],
      "metadata": {
        "colab": {
          "base_uri": "https://localhost:8080/",
          "height": 78
        },
        "id": "JjwGIJjIuBZc",
        "outputId": "940515bf-6523-462e-98d1-36cd8ee5cb28"
      },
      "id": "JjwGIJjIuBZc",
      "execution_count": 97,
      "outputs": [
        {
          "output_type": "execute_result",
          "data": {
            "text/plain": [
              "Matrix([\n",
              "[2,  1,  0,                 b1],\n",
              "[0, -9, -6,         -b1 + 2*b2],\n",
              "[0,  0,  0, 3*b1 - 6*b2 - 9*b3]])"
            ],
            "text/latex": "$\\displaystyle \\left[\\begin{matrix}2 & 1 & 0 & b_{1}\\\\0 & -9 & -6 & - b_{1} + 2 b_{2}\\\\0 & 0 & 0 & 3 b_{1} - 6 b_{2} - 9 b_{3}\\end{matrix}\\right]$"
          },
          "metadata": {},
          "execution_count": 97
        }
      ]
    },
    {
      "cell_type": "markdown",
      "source": [
        "## Exercise 10"
      ],
      "metadata": {
        "id": "x9Mcfrvv2_tY"
      },
      "id": "x9Mcfrvv2_tY"
    },
    {
      "cell_type": "code",
      "source": [
        "import sympy as sy\n",
        "A = sy.Matrix([[3,-3],[1,-1]])\n",
        "A"
      ],
      "metadata": {
        "colab": {
          "base_uri": "https://localhost:8080/",
          "height": 58
        },
        "id": "Q4lTu-8VuEmQ",
        "outputId": "95d47234-862f-47cb-9055-fe18d4c2e26c"
      },
      "id": "Q4lTu-8VuEmQ",
      "execution_count": 101,
      "outputs": [
        {
          "output_type": "execute_result",
          "data": {
            "text/plain": [
              "Matrix([\n",
              "[3, -3],\n",
              "[1, -1]])"
            ],
            "text/latex": "$\\displaystyle \\left[\\begin{matrix}3 & -3\\\\1 & -1\\end{matrix}\\right]$"
          },
          "metadata": {},
          "execution_count": 101
        }
      ]
    },
    {
      "cell_type": "code",
      "source": [
        "A*A"
      ],
      "metadata": {
        "colab": {
          "base_uri": "https://localhost:8080/",
          "height": 58
        },
        "id": "LIN5hL9l3GKp",
        "outputId": "4fdc0d1b-7db3-4df3-e547-a8e48fb7962c"
      },
      "id": "LIN5hL9l3GKp",
      "execution_count": 102,
      "outputs": [
        {
          "output_type": "execute_result",
          "data": {
            "text/plain": [
              "Matrix([\n",
              "[6, -6],\n",
              "[2, -2]])"
            ],
            "text/latex": "$\\displaystyle \\left[\\begin{matrix}6 & -6\\\\2 & -2\\end{matrix}\\right]$"
          },
          "metadata": {},
          "execution_count": 102
        }
      ]
    },
    {
      "cell_type": "markdown",
      "source": [
        "## Exercise 14"
      ],
      "metadata": {
        "id": "gLbPbg0p54CN"
      },
      "id": "gLbPbg0p54CN"
    },
    {
      "cell_type": "code",
      "source": [
        "import sympy as sy"
      ],
      "metadata": {
        "id": "muu-ID6857xE"
      },
      "id": "muu-ID6857xE",
      "execution_count": 103,
      "outputs": []
    },
    {
      "cell_type": "code",
      "source": [
        "for k in range(3,10):\n",
        "    M = sy.matrices.zeros(k)\n",
        "    for j in range(k):\n",
        "        for i in range(0,j+1,1):\n",
        "            M[i,j] = i+1\n",
        "        for i in range(k-1,j,-1):\n",
        "            M[i,j] = j+1\n",
        "    print(i,':')\n",
        "    display(M)\n",
        "    display(M.det())"
      ],
      "metadata": {
        "colab": {
          "base_uri": "https://localhost:8080/",
          "height": 1000
        },
        "id": "THVFcoHP3ZkW",
        "outputId": "c12da6fb-36a0-41e3-f508-375dbb4044e3"
      },
      "id": "THVFcoHP3ZkW",
      "execution_count": 104,
      "outputs": [
        {
          "output_type": "stream",
          "name": "stdout",
          "text": [
            "2 :\n"
          ]
        },
        {
          "output_type": "display_data",
          "data": {
            "text/plain": [
              "Matrix([\n",
              "[1, 1, 1],\n",
              "[1, 2, 2],\n",
              "[1, 2, 3]])"
            ],
            "text/latex": "$\\displaystyle \\left[\\begin{matrix}1 & 1 & 1\\\\1 & 2 & 2\\\\1 & 2 & 3\\end{matrix}\\right]$"
          },
          "metadata": {}
        },
        {
          "output_type": "display_data",
          "data": {
            "text/plain": [
              "1"
            ],
            "text/latex": "$\\displaystyle 1$"
          },
          "metadata": {}
        },
        {
          "output_type": "stream",
          "name": "stdout",
          "text": [
            "3 :\n"
          ]
        },
        {
          "output_type": "display_data",
          "data": {
            "text/plain": [
              "Matrix([\n",
              "[1, 1, 1, 1],\n",
              "[1, 2, 2, 2],\n",
              "[1, 2, 3, 3],\n",
              "[1, 2, 3, 4]])"
            ],
            "text/latex": "$\\displaystyle \\left[\\begin{matrix}1 & 1 & 1 & 1\\\\1 & 2 & 2 & 2\\\\1 & 2 & 3 & 3\\\\1 & 2 & 3 & 4\\end{matrix}\\right]$"
          },
          "metadata": {}
        },
        {
          "output_type": "display_data",
          "data": {
            "text/plain": [
              "1"
            ],
            "text/latex": "$\\displaystyle 1$"
          },
          "metadata": {}
        },
        {
          "output_type": "stream",
          "name": "stdout",
          "text": [
            "4 :\n"
          ]
        },
        {
          "output_type": "display_data",
          "data": {
            "text/plain": [
              "Matrix([\n",
              "[1, 1, 1, 1, 1],\n",
              "[1, 2, 2, 2, 2],\n",
              "[1, 2, 3, 3, 3],\n",
              "[1, 2, 3, 4, 4],\n",
              "[1, 2, 3, 4, 5]])"
            ],
            "text/latex": "$\\displaystyle \\left[\\begin{matrix}1 & 1 & 1 & 1 & 1\\\\1 & 2 & 2 & 2 & 2\\\\1 & 2 & 3 & 3 & 3\\\\1 & 2 & 3 & 4 & 4\\\\1 & 2 & 3 & 4 & 5\\end{matrix}\\right]$"
          },
          "metadata": {}
        },
        {
          "output_type": "display_data",
          "data": {
            "text/plain": [
              "1"
            ],
            "text/latex": "$\\displaystyle 1$"
          },
          "metadata": {}
        },
        {
          "output_type": "stream",
          "name": "stdout",
          "text": [
            "5 :\n"
          ]
        },
        {
          "output_type": "display_data",
          "data": {
            "text/plain": [
              "Matrix([\n",
              "[1, 1, 1, 1, 1, 1],\n",
              "[1, 2, 2, 2, 2, 2],\n",
              "[1, 2, 3, 3, 3, 3],\n",
              "[1, 2, 3, 4, 4, 4],\n",
              "[1, 2, 3, 4, 5, 5],\n",
              "[1, 2, 3, 4, 5, 6]])"
            ],
            "text/latex": "$\\displaystyle \\left[\\begin{matrix}1 & 1 & 1 & 1 & 1 & 1\\\\1 & 2 & 2 & 2 & 2 & 2\\\\1 & 2 & 3 & 3 & 3 & 3\\\\1 & 2 & 3 & 4 & 4 & 4\\\\1 & 2 & 3 & 4 & 5 & 5\\\\1 & 2 & 3 & 4 & 5 & 6\\end{matrix}\\right]$"
          },
          "metadata": {}
        },
        {
          "output_type": "display_data",
          "data": {
            "text/plain": [
              "1"
            ],
            "text/latex": "$\\displaystyle 1$"
          },
          "metadata": {}
        },
        {
          "output_type": "stream",
          "name": "stdout",
          "text": [
            "6 :\n"
          ]
        },
        {
          "output_type": "display_data",
          "data": {
            "text/plain": [
              "Matrix([\n",
              "[1, 1, 1, 1, 1, 1, 1],\n",
              "[1, 2, 2, 2, 2, 2, 2],\n",
              "[1, 2, 3, 3, 3, 3, 3],\n",
              "[1, 2, 3, 4, 4, 4, 4],\n",
              "[1, 2, 3, 4, 5, 5, 5],\n",
              "[1, 2, 3, 4, 5, 6, 6],\n",
              "[1, 2, 3, 4, 5, 6, 7]])"
            ],
            "text/latex": "$\\displaystyle \\left[\\begin{matrix}1 & 1 & 1 & 1 & 1 & 1 & 1\\\\1 & 2 & 2 & 2 & 2 & 2 & 2\\\\1 & 2 & 3 & 3 & 3 & 3 & 3\\\\1 & 2 & 3 & 4 & 4 & 4 & 4\\\\1 & 2 & 3 & 4 & 5 & 5 & 5\\\\1 & 2 & 3 & 4 & 5 & 6 & 6\\\\1 & 2 & 3 & 4 & 5 & 6 & 7\\end{matrix}\\right]$"
          },
          "metadata": {}
        },
        {
          "output_type": "display_data",
          "data": {
            "text/plain": [
              "1"
            ],
            "text/latex": "$\\displaystyle 1$"
          },
          "metadata": {}
        },
        {
          "output_type": "stream",
          "name": "stdout",
          "text": [
            "7 :\n"
          ]
        },
        {
          "output_type": "display_data",
          "data": {
            "text/plain": [
              "Matrix([\n",
              "[1, 1, 1, 1, 1, 1, 1, 1],\n",
              "[1, 2, 2, 2, 2, 2, 2, 2],\n",
              "[1, 2, 3, 3, 3, 3, 3, 3],\n",
              "[1, 2, 3, 4, 4, 4, 4, 4],\n",
              "[1, 2, 3, 4, 5, 5, 5, 5],\n",
              "[1, 2, 3, 4, 5, 6, 6, 6],\n",
              "[1, 2, 3, 4, 5, 6, 7, 7],\n",
              "[1, 2, 3, 4, 5, 6, 7, 8]])"
            ],
            "text/latex": "$\\displaystyle \\left[\\begin{matrix}1 & 1 & 1 & 1 & 1 & 1 & 1 & 1\\\\1 & 2 & 2 & 2 & 2 & 2 & 2 & 2\\\\1 & 2 & 3 & 3 & 3 & 3 & 3 & 3\\\\1 & 2 & 3 & 4 & 4 & 4 & 4 & 4\\\\1 & 2 & 3 & 4 & 5 & 5 & 5 & 5\\\\1 & 2 & 3 & 4 & 5 & 6 & 6 & 6\\\\1 & 2 & 3 & 4 & 5 & 6 & 7 & 7\\\\1 & 2 & 3 & 4 & 5 & 6 & 7 & 8\\end{matrix}\\right]$"
          },
          "metadata": {}
        },
        {
          "output_type": "display_data",
          "data": {
            "text/plain": [
              "1"
            ],
            "text/latex": "$\\displaystyle 1$"
          },
          "metadata": {}
        },
        {
          "output_type": "stream",
          "name": "stdout",
          "text": [
            "8 :\n"
          ]
        },
        {
          "output_type": "display_data",
          "data": {
            "text/plain": [
              "Matrix([\n",
              "[1, 1, 1, 1, 1, 1, 1, 1, 1],\n",
              "[1, 2, 2, 2, 2, 2, 2, 2, 2],\n",
              "[1, 2, 3, 3, 3, 3, 3, 3, 3],\n",
              "[1, 2, 3, 4, 4, 4, 4, 4, 4],\n",
              "[1, 2, 3, 4, 5, 5, 5, 5, 5],\n",
              "[1, 2, 3, 4, 5, 6, 6, 6, 6],\n",
              "[1, 2, 3, 4, 5, 6, 7, 7, 7],\n",
              "[1, 2, 3, 4, 5, 6, 7, 8, 8],\n",
              "[1, 2, 3, 4, 5, 6, 7, 8, 9]])"
            ],
            "text/latex": "$\\displaystyle \\left[\\begin{matrix}1 & 1 & 1 & 1 & 1 & 1 & 1 & 1 & 1\\\\1 & 2 & 2 & 2 & 2 & 2 & 2 & 2 & 2\\\\1 & 2 & 3 & 3 & 3 & 3 & 3 & 3 & 3\\\\1 & 2 & 3 & 4 & 4 & 4 & 4 & 4 & 4\\\\1 & 2 & 3 & 4 & 5 & 5 & 5 & 5 & 5\\\\1 & 2 & 3 & 4 & 5 & 6 & 6 & 6 & 6\\\\1 & 2 & 3 & 4 & 5 & 6 & 7 & 7 & 7\\\\1 & 2 & 3 & 4 & 5 & 6 & 7 & 8 & 8\\\\1 & 2 & 3 & 4 & 5 & 6 & 7 & 8 & 9\\end{matrix}\\right]$"
          },
          "metadata": {}
        },
        {
          "output_type": "display_data",
          "data": {
            "text/plain": [
              "1"
            ],
            "text/latex": "$\\displaystyle 1$"
          },
          "metadata": {}
        }
      ]
    },
    {
      "cell_type": "markdown",
      "source": [
        "## Exercise 16"
      ],
      "metadata": {
        "id": "z93_aR2158nd"
      },
      "id": "z93_aR2158nd"
    },
    {
      "cell_type": "code",
      "source": [
        "import sympy as sy\n",
        "M = sy.Matrix([[1,2],[2,1]])\n",
        "v = sy.Matrix([-5,5])"
      ],
      "metadata": {
        "id": "Oq5E4fgx7vT-"
      },
      "id": "Oq5E4fgx7vT-",
      "execution_count": 105,
      "outputs": []
    },
    {
      "cell_type": "code",
      "source": [
        "M"
      ],
      "metadata": {
        "colab": {
          "base_uri": "https://localhost:8080/",
          "height": 58
        },
        "id": "icNAzM2K710N",
        "outputId": "4affea56-6951-4934-b665-4433011f1611"
      },
      "id": "icNAzM2K710N",
      "execution_count": 106,
      "outputs": [
        {
          "output_type": "execute_result",
          "data": {
            "text/plain": [
              "Matrix([\n",
              "[1, 2],\n",
              "[2, 1]])"
            ],
            "text/latex": "$\\displaystyle \\left[\\begin{matrix}1 & 2\\\\2 & 1\\end{matrix}\\right]$"
          },
          "metadata": {},
          "execution_count": 106
        }
      ]
    },
    {
      "cell_type": "code",
      "source": [
        "v"
      ],
      "metadata": {
        "colab": {
          "base_uri": "https://localhost:8080/",
          "height": 58
        },
        "id": "FlzvUvu972Fg",
        "outputId": "a2018999-59ec-456b-d88f-a108c3a7e908"
      },
      "id": "FlzvUvu972Fg",
      "execution_count": 107,
      "outputs": [
        {
          "output_type": "execute_result",
          "data": {
            "text/plain": [
              "Matrix([\n",
              "[-5],\n",
              "[ 5]])"
            ],
            "text/latex": "$\\displaystyle \\left[\\begin{matrix}-5\\\\5\\end{matrix}\\right]$"
          },
          "metadata": {},
          "execution_count": 107
        }
      ]
    },
    {
      "cell_type": "code",
      "source": [
        "M*v"
      ],
      "metadata": {
        "colab": {
          "base_uri": "https://localhost:8080/",
          "height": 58
        },
        "id": "G1FGzwFa72SX",
        "outputId": "f958e25a-7876-4a70-f463-a37bcfc83d6b"
      },
      "id": "G1FGzwFa72SX",
      "execution_count": 110,
      "outputs": [
        {
          "output_type": "execute_result",
          "data": {
            "text/plain": [
              "Matrix([\n",
              "[ 5],\n",
              "[-5]])"
            ],
            "text/latex": "$\\displaystyle \\left[\\begin{matrix}5\\\\-5\\end{matrix}\\right]$"
          },
          "metadata": {},
          "execution_count": 110
        }
      ]
    },
    {
      "cell_type": "markdown",
      "source": [
        "## Exercise 18"
      ],
      "metadata": {
        "id": "8lbMaWhF73aF"
      },
      "id": "8lbMaWhF73aF"
    },
    {
      "cell_type": "code",
      "source": [
        "import sympy as sy\n",
        "a,b = sy.symbols('a,b')\n",
        "A = sy.Matrix([[1,a,3],[0,8-2*a,1-b]])\n",
        "A"
      ],
      "metadata": {
        "colab": {
          "base_uri": "https://localhost:8080/",
          "height": 58
        },
        "id": "vgIw2t_q-UST",
        "outputId": "abd7ed91-edae-4e57-ad0a-b54d7d78fa8f"
      },
      "id": "vgIw2t_q-UST",
      "execution_count": 112,
      "outputs": [
        {
          "output_type": "execute_result",
          "data": {
            "text/plain": [
              "Matrix([\n",
              "[1,       a,     3],\n",
              "[0, 8 - 2*a, 1 - b]])"
            ],
            "text/latex": "$\\displaystyle \\left[\\begin{matrix}1 & a & 3\\\\0 & 8 - 2 a & 1 - b\\end{matrix}\\right]$"
          },
          "metadata": {},
          "execution_count": 112
        }
      ]
    },
    {
      "cell_type": "markdown",
      "source": [
        "## Exercise 26"
      ],
      "metadata": {
        "id": "CfCjljz8-kxN"
      },
      "id": "CfCjljz8-kxN"
    },
    {
      "cell_type": "code",
      "source": [
        "import sympy as sy\n",
        "w,h = sy.symbols('w,h')\n",
        "S = 0.0072*w**(0.425)*h**(0.725)\n",
        "S"
      ],
      "metadata": {
        "colab": {
          "base_uri": "https://localhost:8080/",
          "height": 38
        },
        "id": "PdQKyId9Deyn",
        "outputId": "d30c55b9-099d-4cef-9c3e-fa7c52bb2b6a"
      },
      "id": "PdQKyId9Deyn",
      "execution_count": 115,
      "outputs": [
        {
          "output_type": "execute_result",
          "data": {
            "text/plain": [
              "0.0072*h**0.725*w**0.425"
            ],
            "text/latex": "$\\displaystyle 0.0072 h^{0.725} w^{0.425}$"
          },
          "metadata": {},
          "execution_count": 115
        }
      ]
    },
    {
      "cell_type": "code",
      "source": [
        "sy.diff(S,w).subs({w:73, h:178})"
      ],
      "metadata": {
        "colab": {
          "base_uri": "https://localhost:8080/",
          "height": 37
        },
        "id": "7wsegVcLDhEc",
        "outputId": "f46a5304-8736-4953-cadd-af09dfc1cb5d"
      },
      "id": "7wsegVcLDhEc",
      "execution_count": 116,
      "outputs": [
        {
          "output_type": "execute_result",
          "data": {
            "text/plain": [
              "0.0111138692602075"
            ],
            "text/latex": "$\\displaystyle 0.0111138692602075$"
          },
          "metadata": {},
          "execution_count": 116
        }
      ]
    },
    {
      "cell_type": "code",
      "source": [
        "sy.diff(S,h).subs({w:73, h:178})"
      ],
      "metadata": {
        "colab": {
          "base_uri": "https://localhost:8080/",
          "height": 37
        },
        "id": "3BsuToh4Dz1y",
        "outputId": "00c53a7c-ed91-42aa-aa89-3bd3ca93bef2"
      },
      "id": "3BsuToh4Dz1y",
      "execution_count": 117,
      "outputs": [
        {
          "output_type": "execute_result",
          "data": {
            "text/plain": [
              "0.00777530113148024"
            ],
            "text/latex": "$\\displaystyle 0.00777530113148024$"
          },
          "metadata": {},
          "execution_count": 117
        }
      ]
    },
    {
      "cell_type": "markdown",
      "source": [
        "## Exercise 32"
      ],
      "metadata": {
        "id": "z13QwZjsJXLC"
      },
      "id": "z13QwZjsJXLC"
    },
    {
      "cell_type": "code",
      "source": [
        "import sympy as sy\n",
        "t = sy.symbols('t')\n",
        "sy.plot_parametric((t-1)*(t+1),t,(t,-2,2))"
      ],
      "metadata": {
        "colab": {
          "base_uri": "https://localhost:8080/",
          "height": 504
        },
        "id": "UJ6Nni7bEZNH",
        "outputId": "7a5c594f-466e-475a-bcbc-6450129179c3"
      },
      "id": "UJ6Nni7bEZNH",
      "execution_count": 118,
      "outputs": [
        {
          "output_type": "display_data",
          "data": {
            "text/plain": [
              "<Figure size 640x480 with 1 Axes>"
            ],
            "image/png": "[encoded data removed]"
          },
          "metadata": {}
        },
        {
          "output_type": "execute_result",
          "data": {
            "text/plain": [
              "<sympy.plotting.plot.Plot at 0x7f5765a42f20>"
            ]
          },
          "metadata": {},
          "execution_count": 118
        }
      ]
    },
    {
      "cell_type": "code",
      "source": [],
      "metadata": {
        "id": "JdeexZSyJjvN"
      },
      "id": "JdeexZSyJjvN",
      "execution_count": null,
      "outputs": []
    }
  ]
}