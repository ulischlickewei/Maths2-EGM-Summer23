{
  "nbformat": 4,
  "nbformat_minor": 0,
  "metadata": {
    "colab": {
      "provenance": [],
      "authorship_tag": "ABX9TyPzeCknPU+OeASVmQ0OEZX8",
      "include_colab_link": true
    },
    "kernelspec": {
      "name": "python3",
      "display_name": "Python 3"
    },
    "language_info": {
      "name": "python"
    }
  },
  "cells": [
    {
      "cell_type": "markdown",
      "metadata": {
        "id": "view-in-github",
        "colab_type": "text"
      },
      "source": [
        "<a href=\"https://colab.research.google.com/github/ulischlickewei/Maths2-EGM-Summer23/blob/main/1-Taylor_Development/20230317_Introduction_to_Taylor_Polynomials.ipynb\" target=\"_parent\"><img src=\"https://colab.research.google.com/assets/colab-badge.svg\" alt=\"Open In Colab\"/></a>"
      ]
    },
    {
      "cell_type": "markdown",
      "source": [
        "\n",
        "## 1.) Python Exercise: Function to compute Taylor polynomial\n",
        "\n",
        "Write a function `taylor` in Python which takes a SymPy variable $x$, a SymPy expression $f$, a development point $x_0$ and a degree $n$ argument and returns the Taylor polynomial $T_n(x,x_0)$ of degree $n$ of $f$ at $x_0$ as a SymPy expression.\n",
        "\n",
        "Test your function by computing the degree 2 Taylor polynomial of $f(x) = x^3 + 3x^2-2x+1$ at $x_0 = 2$ discussed before.\n",
        "\n",
        "\n",
        "\n"
      ],
      "metadata": {
        "id": "YVEYwCNahztY"
      }
    },
    {
      "cell_type": "code",
      "execution_count": null,
      "metadata": {
        "id": "toC9CVAPhMSD"
      },
      "outputs": [],
      "source": [
        "def taylor(x, f, x0, n):\n",
        "  \"\"\"Inputs: x = symbolic variable, f = Sympy expression in x,\n",
        "  x0 = point of development for the Taylor expansion,\n",
        "  n = degree of the desired Taylor polynomial\n",
        "\n",
        "  Output: SymPy expression which represents the n-th Taylor\n",
        "  polynomial of f at x0.\"\"\"\n",
        "\n",
        "  import sympy as sy\n",
        "  tn = 0\n",
        "  for k in range(n+1):\n",
        "    ak = sy.diff(f,x,k).subs(x,x0)/sy.factorial(k)\n",
        "    tn = tn+ ak * (x-x0)**k\n",
        "\n",
        "  return tn"
      ]
    },
    {
      "cell_type": "code",
      "source": [
        "import sympy as sy\n",
        "x = sy.symbols('x')\n",
        "f = x**3 + 3*x**2-2*x+1\n",
        "f"
      ],
      "metadata": {
        "colab": {
          "base_uri": "https://localhost:8080/",
          "height": 38
        },
        "id": "LQdXuU-ULwOu",
        "outputId": "c782e0fa-9510-4e0e-d6e3-6de308485d5b"
      },
      "execution_count": null,
      "outputs": [
        {
          "output_type": "execute_result",
          "data": {
            "text/plain": [
              "x**3 + 3*x**2 - 2*x + 1"
            ],
            "text/latex": "$\\displaystyle x^{3} + 3 x^{2} - 2 x + 1$"
          },
          "metadata": {},
          "execution_count": 2
        }
      ]
    },
    {
      "cell_type": "code",
      "source": [
        "taylor(x,f,2,2)"
      ],
      "metadata": {
        "colab": {
          "base_uri": "https://localhost:8080/",
          "height": 39
        },
        "id": "-6QDKyP9L_8D",
        "outputId": "f8cf1401-7168-457a-8613-965da9fa55fc"
      },
      "execution_count": null,
      "outputs": [
        {
          "output_type": "execute_result",
          "data": {
            "text/plain": [
              "22*x + 9*(x - 2)**2 - 27"
            ],
            "text/latex": "$\\displaystyle 22 x + 9 \\left(x - 2\\right)^{2} - 27$"
          },
          "metadata": {},
          "execution_count": 3
        }
      ]
    },
    {
      "cell_type": "markdown",
      "source": [
        "## 2.) Taylor polynomials with SymPy\n",
        "It is of course possible to compute Taylor developments directly with SymPy without use of our handwritten function `taylor`. This is done using the function `sympy.series()` with the following arguments:\n",
        "- `f`: the symbolic expression which should be developed as a Taylor poylnomial\n",
        "- `x`: the symbolic variable with respect to which the expression should be derived\n",
        "- `x0`: the point of development\n",
        "- `n`: the order of the development (note that `n=k` leads to a degree $k-1$ Taylor polynomial)"
      ],
      "metadata": {
        "id": "Wwmv36qG5FEv"
      }
    },
    {
      "cell_type": "code",
      "source": [
        " "
      ],
      "metadata": {
        "id": "ZuMxK0aSLu81"
      },
      "execution_count": null,
      "outputs": []
    },
    {
      "cell_type": "code",
      "source": [
        "f = sy.sin(x)\n",
        "sy.series(f,x,0,10)"
      ],
      "metadata": {
        "id": "NkcSXH5giC5E",
        "colab": {
          "base_uri": "https://localhost:8080/",
          "height": 54
        },
        "outputId": "faad00f9-d975-4191-8ddd-a5cbc9f4cb78"
      },
      "execution_count": null,
      "outputs": [
        {
          "output_type": "execute_result",
          "data": {
            "text/plain": [
              "x - x**3/6 + x**5/120 - x**7/5040 + x**9/362880 + O(x**10)"
            ],
            "text/latex": "$\\displaystyle x - \\frac{x^{3}}{6} + \\frac{x^{5}}{120} - \\frac{x^{7}}{5040} + \\frac{x^{9}}{362880} + O\\left(x^{10}\\right)$"
          },
          "metadata": {},
          "execution_count": 4
        }
      ]
    },
    {
      "cell_type": "markdown",
      "source": [
        "The O-part at the end of the series means \"terms of order 10 or higher\". Sometimes it helps to remove this part. This is done using `.removeO()`:"
      ],
      "metadata": {
        "id": "N7RlNYhUMr-U"
      }
    },
    {
      "cell_type": "code",
      "source": [
        "sy.series(f,x,0,10).removeO()"
      ],
      "metadata": {
        "id": "8lez8je-iEH8",
        "colab": {
          "base_uri": "https://localhost:8080/",
          "height": 54
        },
        "outputId": "2b241645-5739-40e2-8081-1a8a30d582c7"
      },
      "execution_count": null,
      "outputs": [
        {
          "output_type": "execute_result",
          "data": {
            "text/plain": [
              "x**9/362880 - x**7/5040 + x**5/120 - x**3/6 + x"
            ],
            "text/latex": "$\\displaystyle \\frac{x^{9}}{362880} - \\frac{x^{7}}{5040} + \\frac{x^{5}}{120} - \\frac{x^{3}}{6} + x$"
          },
          "metadata": {},
          "execution_count": 5
        }
      ]
    },
    {
      "cell_type": "markdown",
      "source": [
        "## 3.) Python Exercise: Taylor Polynomial of sine function\n",
        "\n",
        "1. Determine the Taylor polynomial of degree $2n+1$ of the function $f(x) = \\sin(x)$ at $x_0 = 0$.\n",
        "2. Plot the sine function and the Taylor polynomials $T_1, T_3, T_5, T_7$ on the interval $[-\\pi, \\pi]$. What do you conclude from this experiment?\n",
        "(*Hint*: Since plotting SymPy expressions requires some extra efforts, it might be a good idea to use the sympy function `plot()` in 2.)"
      ],
      "metadata": {
        "id": "fsLhGd6eOUrl"
      }
    },
    {
      "cell_type": "code",
      "source": [
        "sy.series(f,x,0,10).removeO()"
      ],
      "metadata": {
        "id": "si87OHaIiF48",
        "colab": {
          "base_uri": "https://localhost:8080/",
          "height": 54
        },
        "outputId": "0e8af639-9536-43ea-914b-bf4ef6c65ba2"
      },
      "execution_count": null,
      "outputs": [
        {
          "output_type": "execute_result",
          "data": {
            "text/plain": [
              "x**9/362880 - x**7/5040 + x**5/120 - x**3/6 + x"
            ],
            "text/latex": "$\\displaystyle \\frac{x^{9}}{362880} - \\frac{x^{7}}{5040} + \\frac{x^{5}}{120} - \\frac{x^{3}}{6} + x$"
          },
          "metadata": {},
          "execution_count": 6
        }
      ]
    },
    {
      "cell_type": "code",
      "source": [
        "sy.factorial(5)"
      ],
      "metadata": {
        "colab": {
          "base_uri": "https://localhost:8080/",
          "height": 37
        },
        "id": "vjTDyRQoQZej",
        "outputId": "5eb291d4-394b-4c5a-94e6-c41af424a28c"
      },
      "execution_count": null,
      "outputs": [
        {
          "output_type": "execute_result",
          "data": {
            "text/plain": [
              "120"
            ],
            "text/latex": "$\\displaystyle 120$"
          },
          "metadata": {},
          "execution_count": 7
        }
      ]
    },
    {
      "cell_type": "code",
      "source": [
        "sy.factorial(7)"
      ],
      "metadata": {
        "colab": {
          "base_uri": "https://localhost:8080/",
          "height": 37
        },
        "id": "0y6ef8aTQcsd",
        "outputId": "ac0e7584-8154-44f9-e007-fac614772e5e"
      },
      "execution_count": null,
      "outputs": [
        {
          "output_type": "execute_result",
          "data": {
            "text/plain": [
              "5040"
            ],
            "text/latex": "$\\displaystyle 5040$"
          },
          "metadata": {},
          "execution_count": 8
        }
      ]
    },
    {
      "cell_type": "code",
      "source": [
        "sy.series(f,x,0,10)"
      ],
      "metadata": {
        "colab": {
          "base_uri": "https://localhost:8080/",
          "height": 54
        },
        "id": "KhuFei0JQikq",
        "outputId": "d0e969be-7d49-44cf-e370-315ad6604fca"
      },
      "execution_count": null,
      "outputs": [
        {
          "output_type": "execute_result",
          "data": {
            "text/plain": [
              "x - x**3/6 + x**5/120 - x**7/5040 + x**9/362880 + O(x**10)"
            ],
            "text/latex": "$\\displaystyle x - \\frac{x^{3}}{6} + \\frac{x^{5}}{120} - \\frac{x^{7}}{5040} + \\frac{x^{9}}{362880} + O\\left(x^{10}\\right)$"
          },
          "metadata": {},
          "execution_count": 9
        }
      ]
    },
    {
      "cell_type": "code",
      "source": [
        "t1 = sy.series(f,x,0,2).removeO()\n",
        "t3 = sy.series(f,x,0,4).removeO()\n",
        "t5 = sy.series(f,x,0,6).removeO()\n",
        "t7 = sy.series(f,x,0,8).removeO()"
      ],
      "metadata": {
        "id": "QQbIAplSTc3z"
      },
      "execution_count": null,
      "outputs": []
    },
    {
      "cell_type": "code",
      "source": [
        "graph = sy.plot(f,t1,t3,t5,t7,(x,-sy.pi,sy.pi), show = False)\n",
        "graph[1].line_color = 'g'\n",
        "graph[2].line_color = 'r'\n",
        "graph[3].line_color = 'm'\n",
        "graph[4].line_color = 'y'\n",
        "graph.show()"
      ],
      "metadata": {
        "colab": {
          "base_uri": "https://localhost:8080/",
          "height": 297
        },
        "id": "UQ2ZmWmLTKQk",
        "outputId": "cd771d56-c818-4bc9-9f92-4534e96b2068"
      },
      "execution_count": null,
      "outputs": [
        {
          "output_type": "display_data",
          "data": {
            "text/plain": [
              "<Figure size 432x288 with 1 Axes>"
            ],
            "image/png": "[encoded data removed]"
          },
          "metadata": {
            "needs_background": "light"
          }
        }
      ]
    },
    {
      "cell_type": "markdown",
      "source": [
        "## 4.) Python exercise: Taylor development of the natural logarithm and error estimate\n",
        "\n",
        "We want to approximate the function $f(x) = \\ln(x+1)$ on the interval $(-0.5,0.5)$ by a Taylor polynomial at $x_0=0$. Which degree do we need to choose to ensure that the approximation error is smaller than $10^{-3}$.\n",
        "\t\t\n",
        "Of course, you should use the Taylor formula from page 15 for this. The quality of approximation should not be compared against the preimplemented logarithm function of Python.\n"
      ],
      "metadata": {
        "id": "qXkNWge3UwUZ"
      }
    },
    {
      "cell_type": "code",
      "source": [
        "..."
      ],
      "metadata": {
        "id": "NKy-8wx7HvKT"
      },
      "execution_count": null,
      "outputs": []
    },
    {
      "cell_type": "markdown",
      "source": [
        "## 5.) Python exercise: Domain of convergence of Taylor series for logarithm\n",
        "\n",
        "Compute different Taylor polynomials of the natural logarithm at $x_0=1$. Plot these and the logarithm itself on the interval $(0.1, 2.2)$. \n",
        "\t\t\n",
        "From these experiments, derive an hypothesis where the Taylor series of the natural logarithm at $x_0= 1$ is a convergent series.\n"
      ],
      "metadata": {
        "id": "yT-c8BRxVD1t"
      }
    },
    {
      "cell_type": "code",
      "source": [],
      "metadata": {
        "id": "b4XLqVAeW3UC"
      },
      "execution_count": null,
      "outputs": []
    }
  ]
}