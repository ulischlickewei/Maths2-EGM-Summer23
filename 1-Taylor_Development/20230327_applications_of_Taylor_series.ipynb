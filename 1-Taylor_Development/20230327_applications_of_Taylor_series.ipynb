{
  "nbformat": 4,
  "nbformat_minor": 0,
  "metadata": {
    "colab": {
      "provenance": [],
      "authorship_tag": "ABX9TyMSg9efU40AV8ajq3HQyUb9",
      "include_colab_link": true
    },
    "kernelspec": {
      "name": "python3",
      "display_name": "Python 3"
    },
    "language_info": {
      "name": "python"
    }
  },
  "cells": [
    {
      "cell_type": "markdown",
      "metadata": {
        "id": "view-in-github",
        "colab_type": "text"
      },
      "source": [
        "<a href=\"https://colab.research.google.com/github/ulischlickewei/Maths2-EGM-Summer23/blob/main/1-Taylor_Development/20230327_applications_of_Taylor_series.ipynb\" target=\"_parent\"><img src=\"https://colab.research.google.com/assets/colab-badge.svg\" alt=\"Open In Colab\"/></a>"
      ]
    },
    {
      "cell_type": "markdown",
      "source": [
        "## Example page 32: simple gravity pendulum"
      ],
      "metadata": {
        "id": "NeXaz6zHnoRh"
      }
    },
    {
      "cell_type": "code",
      "execution_count": null,
      "metadata": {
        "colab": {
          "base_uri": "https://localhost:8080/",
          "height": 39
        },
        "id": "_8gqUXPKbBCv",
        "outputId": "acbbb02e-a00b-42ed-f97d-326716ac90a9"
      },
      "outputs": [
        {
          "output_type": "execute_result",
          "data": {
            "text/plain": [
              "1 - 2*x + 3*x**2 + O(x**3)"
            ],
            "text/latex": "$\\displaystyle 1 - 2 x + 3 x^{2} + O\\left(x^{3}\\right)$"
          },
          "metadata": {},
          "execution_count": 1
        }
      ],
      "source": [
        "import sympy as sy\n",
        "x = sy.symbols('x')\n",
        "f = (1+x)**(-2)\n",
        "sy.series(f,x,x0=0, n=3)"
      ]
    },
    {
      "cell_type": "code",
      "source": [
        "1/(1.1)**2"
      ],
      "metadata": {
        "colab": {
          "base_uri": "https://localhost:8080/"
        },
        "id": "Lx4psCFqqRI9",
        "outputId": "96107970-82d0-404f-d217-4bd8a1591f3f"
      },
      "execution_count": null,
      "outputs": [
        {
          "output_type": "execute_result",
          "data": {
            "text/plain": [
              "0.8264462809917354"
            ]
          },
          "metadata": {},
          "execution_count": 2
        }
      ]
    },
    {
      "cell_type": "markdown",
      "source": [
        "## Example page 33: movement of a body in a fluid with viscous friction\n",
        "\n",
        "We had reduced the problem of finding a formula for the distance $s$ travelled at time $t$ to the equation\n",
        "$$\\text{e}^{-x} = -x+2.$$"
      ],
      "metadata": {
        "id": "JHrBDplbvPLa"
      }
    },
    {
      "cell_type": "code",
      "source": [
        "sy.plot(sy.exp(-x),-x+2,(x,-1.4,2.5))"
      ],
      "metadata": {
        "colab": {
          "base_uri": "https://localhost:8080/",
          "height": 504
        },
        "id": "DIgA4-7lvR2i",
        "outputId": "7e2529d4-f0ea-461b-dc52-c3dc44c22185"
      },
      "execution_count": null,
      "outputs": [
        {
          "output_type": "display_data",
          "data": {
            "text/plain": [
              "<Figure size 640x480 with 1 Axes>"
            ],
            "image/png": "[encoded data removed]"
          },
          "metadata": {}
        },
        {
          "output_type": "execute_result",
          "data": {
            "text/plain": [
              "<sympy.plotting.plot.Plot at 0x7f976012a310>"
            ]
          },
          "metadata": {},
          "execution_count": 6
        }
      ]
    },
    {
      "cell_type": "markdown",
      "source": [
        "Apparently, we are looking for the solution $x$ with $x > 0$ (remember: $x$ was a substitute for $\\frac{t}{\\tau}$, both of which are positive numbers).\n",
        "\n",
        "In order to find an approximate solution, we replace the exponential function by its second Taylor polynomial $T_2$ developed at $x_0 = 2$."
      ],
      "metadata": {
        "id": "bQTXCKTcxfoG"
      }
    },
    {
      "cell_type": "code",
      "source": [
        "f = sy.exp(-x)\n",
        "g = sy.series(f,x,x0=2,n=3).removeO()\n",
        "h = -x+2\n",
        "display(g)\n",
        "display(h)"
      ],
      "metadata": {
        "colab": {
          "base_uri": "https://localhost:8080/",
          "height": 78
        },
        "id": "ocnoiuT7vP2J",
        "outputId": "919e0b6c-1ed5-44b9-9ec0-b977238d8c8d"
      },
      "execution_count": null,
      "outputs": [
        {
          "output_type": "display_data",
          "data": {
            "text/plain": [
              "(x - 2)**2*exp(-2)/2 - (x - 2)*exp(-2) + exp(-2)"
            ],
            "text/latex": "$\\displaystyle \\frac{\\left(x - 2\\right)^{2}}{2 e^{2}} - \\frac{x - 2}{e^{2}} + e^{-2}$"
          },
          "metadata": {}
        },
        {
          "output_type": "display_data",
          "data": {
            "text/plain": [
              "2 - x"
            ],
            "text/latex": "$\\displaystyle 2 - x$"
          },
          "metadata": {}
        }
      ]
    },
    {
      "cell_type": "markdown",
      "source": [
        "Next, we solve the equation $T_2(x) = -x+2$ and we choose the positive solution as our approximate value."
      ],
      "metadata": {
        "id": "ZrYEze_jy-AK"
      }
    },
    {
      "cell_type": "code",
      "source": [
        "sy.solve(g-h,x)"
      ],
      "metadata": {
        "colab": {
          "base_uri": "https://localhost:8080/"
        },
        "id": "yJuTnggP44kN",
        "outputId": "c009eb6b-0c08-4fc7-e01c-13372c55df9b"
      },
      "execution_count": null,
      "outputs": [
        {
          "output_type": "execute_result",
          "data": {
            "text/plain": [
              "[-exp(2) + 3 + sqrt(-2*exp(2) - 1 + exp(4)),\n",
              " -exp(2) - sqrt(-2*exp(2) - 1 + exp(4)) + 3]"
            ]
          },
          "metadata": {},
          "execution_count": 4
        }
      ]
    },
    {
      "cell_type": "code",
      "source": [
        "sy.solve(g-h,x)[0].evalf()"
      ],
      "metadata": {
        "colab": {
          "base_uri": "https://localhost:8080/",
          "height": 37
        },
        "id": "bxYv_0rG5Q7W",
        "outputId": "895a8fd0-292e-4647-eb19-2f89f8c290a4"
      },
      "execution_count": null,
      "outputs": [
        {
          "output_type": "execute_result",
          "data": {
            "text/plain": [
              "1.84151673470856"
            ],
            "text/latex": "$\\displaystyle 1.84151673470856$"
          },
          "metadata": {},
          "execution_count": 5
        }
      ]
    },
    {
      "cell_type": "code",
      "source": [
        "sy.solve(g-h,x)[1].evalf()"
      ],
      "metadata": {
        "colab": {
          "base_uri": "https://localhost:8080/",
          "height": 37
        },
        "id": "5SXP5cbC5aVs",
        "outputId": "3b1bcf54-7ca1-4050-a13a-306a8284cad9"
      },
      "execution_count": null,
      "outputs": [
        {
          "output_type": "execute_result",
          "data": {
            "text/plain": [
              "-10.6196289325699"
            ],
            "text/latex": "$\\displaystyle -10.6196289325699$"
          },
          "metadata": {},
          "execution_count": 6
        }
      ]
    },
    {
      "cell_type": "code",
      "source": [
        "for i in range(2):\n",
        "  display(sy.solve(g-h,x)[i].evalf())"
      ],
      "metadata": {
        "colab": {
          "base_uri": "https://localhost:8080/",
          "height": 57
        },
        "id": "CPJGtO5b5npc",
        "outputId": "1057e375-4055-4f6d-a397-570918ca90f8"
      },
      "execution_count": null,
      "outputs": [
        {
          "output_type": "display_data",
          "data": {
            "text/plain": [
              "1.84151673470856"
            ],
            "text/latex": "$\\displaystyle 1.84151673470856$"
          },
          "metadata": {}
        },
        {
          "output_type": "display_data",
          "data": {
            "text/plain": [
              "-10.6196289325699"
            ],
            "text/latex": "$\\displaystyle -10.6196289325699$"
          },
          "metadata": {}
        }
      ]
    },
    {
      "cell_type": "code",
      "source": [
        "[r.evalf() for r in sy.solve(g-h,x)]"
      ],
      "metadata": {
        "id": "8Li-nn-vvWLA",
        "colab": {
          "base_uri": "https://localhost:8080/"
        },
        "outputId": "e9a7e193-89bd-4d80-951a-b1a22cc154d4"
      },
      "execution_count": null,
      "outputs": [
        {
          "output_type": "execute_result",
          "data": {
            "text/plain": [
              "[1.84151673470856, -10.6196289325699]"
            ]
          },
          "metadata": {},
          "execution_count": 19
        }
      ]
    },
    {
      "cell_type": "markdown",
      "source": [
        "Finally, with $x = \\frac{t}{\\tau}$ and $\\tau = 0.5s$ we obtain the following final answer:"
      ],
      "metadata": {
        "id": "1XLGQW9NzJmz"
      }
    },
    {
      "cell_type": "code",
      "source": [
        "s = sy.solve(g-h,x)[0].evalf() * 0.5\n",
        "s"
      ],
      "metadata": {
        "colab": {
          "base_uri": "https://localhost:8080/",
          "height": 37
        },
        "id": "x7Jebcv_yk2j",
        "outputId": "ab9f62a2-1351-4696-a7ff-52b503486e75"
      },
      "execution_count": null,
      "outputs": [
        {
          "output_type": "execute_result",
          "data": {
            "text/plain": [
              "0.920758367354280"
            ],
            "text/latex": "$\\displaystyle 0.92075836735428$"
          },
          "metadata": {},
          "execution_count": 21
        }
      ]
    },
    {
      "cell_type": "markdown",
      "source": [
        "## Example page 34: approximation of a root\n",
        "\n",
        "Use an appropriate binomial series to compute a second order approximation of $\\sqrt{10}$."
      ],
      "metadata": {
        "id": "WNGkSx61236Y"
      }
    },
    {
      "cell_type": "markdown",
      "source": [
        "We rephrased the problem as\n",
        "$$\\sqrt{10} = 3 \\cdot (1+\\frac{1}{9})^{\\frac12}$$"
      ],
      "metadata": {
        "id": "bh2tZRXj9p7f"
      }
    },
    {
      "cell_type": "code",
      "source": [
        "T = 3*sy.series((1+x)**(sy.S(1)/2),x,x0=0,n=3).removeO()\n",
        "display(T)"
      ],
      "metadata": {
        "id": "Ob6Syz-x26Z4",
        "colab": {
          "base_uri": "https://localhost:8080/",
          "height": 54
        },
        "outputId": "3b49272b-575a-4257-d445-f28b2adef63d"
      },
      "execution_count": null,
      "outputs": [
        {
          "output_type": "display_data",
          "data": {
            "text/plain": [
              "-3*x**2/8 + 3*x/2 + 3"
            ],
            "text/latex": "$\\displaystyle - \\frac{3 x^{2}}{8} + \\frac{3 x}{2} + 3$"
          },
          "metadata": {}
        }
      ]
    },
    {
      "cell_type": "code",
      "source": [
        "T.subs(x,1/9)"
      ],
      "metadata": {
        "colab": {
          "base_uri": "https://localhost:8080/",
          "height": 37
        },
        "id": "5OSVquIs-NsU",
        "outputId": "950abbe4-dec2-47f3-d69e-0b6482cb3472"
      },
      "execution_count": null,
      "outputs": [
        {
          "output_type": "execute_result",
          "data": {
            "text/plain": [
              "3.16203703703704"
            ],
            "text/latex": "$\\displaystyle 3.16203703703704$"
          },
          "metadata": {},
          "execution_count": 11
        }
      ]
    },
    {
      "cell_type": "code",
      "source": [
        "sy.sqrt(10).evalf()"
      ],
      "metadata": {
        "colab": {
          "base_uri": "https://localhost:8080/",
          "height": 37
        },
        "id": "Nrh7JH3S-PgN",
        "outputId": "63899d05-c8ce-44f8-dd3e-cf4c1d5427b8"
      },
      "execution_count": null,
      "outputs": [
        {
          "output_type": "execute_result",
          "data": {
            "text/plain": [
              "3.16227766016838"
            ],
            "text/latex": "$\\displaystyle 3.16227766016838$"
          },
          "metadata": {},
          "execution_count": 12
        }
      ]
    },
    {
      "cell_type": "code",
      "source": [],
      "metadata": {
        "id": "nyO3086Q-acX"
      },
      "execution_count": null,
      "outputs": []
    }
  ]
}