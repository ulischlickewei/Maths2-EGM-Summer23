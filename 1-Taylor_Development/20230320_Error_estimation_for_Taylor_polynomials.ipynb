{
  "nbformat": 4,
  "nbformat_minor": 0,
  "metadata": {
    "colab": {
      "provenance": [],
      "authorship_tag": "ABX9TyPjNKS77wOlpg5+l2MmpXbT",
      "include_colab_link": true
    },
    "kernelspec": {
      "name": "python3",
      "display_name": "Python 3"
    },
    "language_info": {
      "name": "python"
    }
  },
  "cells": [
    {
      "cell_type": "markdown",
      "metadata": {
        "id": "view-in-github",
        "colab_type": "text"
      },
      "source": [
        "<a href=\"https://colab.research.google.com/github/ulischlickewei/Maths2-EGM-Summer23/blob/main/1-Taylor_Development/20230320_Error_estimation_for_Taylor_polynomials.ipynb\" target=\"_parent\"><img src=\"https://colab.research.google.com/assets/colab-badge.svg\" alt=\"Open In Colab\"/></a>"
      ]
    },
    {
      "cell_type": "markdown",
      "source": [
        "## 0.) Exercise: Estimate approximation error for $\\sin(1)$"
      ],
      "metadata": {
        "id": "oC9LcH-2PgE1"
      }
    },
    {
      "cell_type": "code",
      "execution_count": null,
      "metadata": {
        "colab": {
          "base_uri": "https://localhost:8080/"
        },
        "id": "XREuVkeWvQCs",
        "outputId": "17c654ad-39a7-47d8-9d32-c7b4d0c8ac04"
      },
      "outputs": [
        {
          "output_type": "stream",
          "name": "stdout",
          "text": [
            "1 : 5.00000000000000e-1\n",
            "3 : 4.16666666666667e-2\n",
            "5 : 1.38888888888889e-3\n",
            "7 : 2.48015873015873e-5\n",
            "9 : 2.75573192239859e-7\n",
            "11 : 2.08767569878681e-9\n",
            "13 : 1.14707455977297e-11\n",
            "15 : 4.77947733238739e-14\n",
            "17 : 1.56192069685862e-16\n",
            "19 : 4.11031762331216e-19\n"
          ]
        }
      ],
      "source": [
        "import sympy as sy\n",
        "for k in range(10):\n",
        "    print(2*k+14, ': {:e}'.format(1/sy.factorial(2*k+2).evalf()))"
      ]
    },
    {
      "cell_type": "markdown",
      "source": [
        "## 1.) Python exercise: Taylor development of the natural logarithm and error estimate\n",
        "\n",
        "We want to approximate the function $f(x) = \\ln(x+1)$ on the interval $(-0.5,0.5)$ by a Taylor polynomial at $x_0=0$. Which degree do we need to choose to ensure that the approximation error is smaller than $10^{-3}$.\n",
        "\t\t\n",
        "Of course, you should use the Taylor formula from page 15 for this. The quality of approximation should not be compared against the preimplemented logarithm function of Python.\n"
      ],
      "metadata": {
        "id": "IRIfmMYGwvd3"
      }
    },
    {
      "cell_type": "markdown",
      "source": [
        "### Step 1:\n",
        "Find the Taylor series of $\\ln(x+1)$ at $x_0 = 0$."
      ],
      "metadata": {
        "id": "Bq2va3F9w0iw"
      }
    },
    {
      "cell_type": "code",
      "source": [
        "x = sy.symbols('x')\n",
        "sy.series(sy.log(1+x),x,0,10)"
      ],
      "metadata": {
        "colab": {
          "base_uri": "https://localhost:8080/",
          "height": 54
        },
        "id": "CodL0WQbwwLT",
        "outputId": "174c1d74-29d1-4519-9602-069faeee4dcb"
      },
      "execution_count": null,
      "outputs": [
        {
          "output_type": "execute_result",
          "data": {
            "text/plain": [
              "x - x**2/2 + x**3/3 - x**4/4 + x**5/5 - x**6/6 + x**7/7 - x**8/8 + x**9/9 + O(x**10)"
            ],
            "text/latex": "$\\displaystyle x - \\frac{x^{2}}{2} + \\frac{x^{3}}{3} - \\frac{x^{4}}{4} + \\frac{x^{5}}{5} - \\frac{x^{6}}{6} + \\frac{x^{7}}{7} - \\frac{x^{8}}{8} + \\frac{x^{9}}{9} + O\\left(x^{10}\\right)$"
          },
          "metadata": {},
          "execution_count": 2
        }
      ]
    },
    {
      "cell_type": "markdown",
      "source": [
        "### Step 2:\n",
        "Control the error (this part is not to be done in Python!)"
      ],
      "metadata": {
        "id": "H-pGvWXWyRti"
      }
    },
    {
      "cell_type": "markdown",
      "source": [
        "Determine the derivatives of $\\log(1+x)$"
      ],
      "metadata": {
        "id": "mwvjTG2QPsXt"
      }
    },
    {
      "cell_type": "code",
      "source": [
        "f = sy.log(1+x)\n",
        "for k in range(10):\n",
        "  print(sy.diff(f,x,k))"
      ],
      "metadata": {
        "colab": {
          "base_uri": "https://localhost:8080/"
        },
        "id": "-bTDeQINyV6M",
        "outputId": "c08434d9-e0f9-4a61-ee0c-2bfea33ecb43"
      },
      "execution_count": null,
      "outputs": [
        {
          "output_type": "stream",
          "name": "stdout",
          "text": [
            "log(x + 1)\n",
            "1/(x + 1)\n",
            "-1/(x + 1)**2\n",
            "2/(x + 1)**3\n",
            "-6/(x + 1)**4\n",
            "24/(x + 1)**5\n",
            "-120/(x + 1)**6\n",
            "720/(x + 1)**7\n",
            "-5040/(x + 1)**8\n",
            "40320/(x + 1)**9\n"
          ]
        }
      ]
    },
    {
      "cell_type": "code",
      "source": [],
      "metadata": {
        "id": "Oh_E-gGp1Czq"
      },
      "execution_count": null,
      "outputs": []
    }
  ]
}